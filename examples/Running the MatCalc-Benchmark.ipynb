{
 "cells": [
  {
   "cell_type": "markdown",
   "id": "0",
   "metadata": {},
   "source": [
    "# Introduction\n",
    "\n",
    "This notebook demonstrates how to run the MatCalc-Benchmark. We will use the recently released TensorNet-MatPES-PBE-v2025.1-PES and M3GNet-MatPES-PBE-v2025.1-PES universal machine learning interatomic potentials for demonstration purposes. All that is needed to run the benchmark on a separate model is to provide a compatible ASE Calculator for your UMLIP."
   ]
  },
  {
   "cell_type": "code",
   "execution_count": null,
   "id": "1",
   "metadata": {},
   "outputs": [],
   "source": [
    "from __future__ import annotations\n",
    "\n",
    "import warnings\n",
    "import pandas as pd\n",
    "\n",
    "from matcalc.utils import PESCalculator\n",
    "from matcalc.benchmark import run_elasticity_benchmark"
   ]
  },
  {
   "cell_type": "markdown",
   "id": "2",
   "metadata": {},
   "source": [
    "# Elasticity Benchmark\n",
    "\n",
    "For demonstration purposes only, we will sample 100 structures from the entire test dataset."
   ]
  },
  {
   "cell_type": "code",
   "execution_count": null,
   "id": "3",
   "metadata": {},
   "outputs": [
    {
     "name": "stderr",
     "output_type": "stream",
     "text": [
      "/Users/shyue/repos/matgl/src/matgl/apps/pes.py:69: UserWarning: To copy construct from a tensor, it is recommended to use sourceTensor.clone().detach() or sourceTensor.clone().detach().requires_grad_(True), rather than torch.tensor(sourceTensor).\n",
      "  self.element_refs = AtomRef(property_offset=torch.tensor(element_refs, dtype=matgl.float_th))\n",
      "/Users/shyue/repos/matgl/src/matgl/apps/pes.py:75: UserWarning: To copy construct from a tensor, it is recommended to use sourceTensor.clone().detach() or sourceTensor.clone().detach().requires_grad_(True), rather than torch.tensor(sourceTensor).\n",
      "  self.register_buffer(\"data_mean\", torch.tensor(data_mean, dtype=matgl.float_th))\n",
      "/Users/shyue/repos/matgl/src/matgl/apps/pes.py:76: UserWarning: To copy construct from a tensor, it is recommended to use sourceTensor.clone().detach() or sourceTensor.clone().detach().requires_grad_(True), rather than torch.tensor(sourceTensor).\n",
      "  self.register_buffer(\"data_std\", torch.tensor(data_std, dtype=matgl.float_th))\n",
      "/Users/shyue/miniconda3/envs/mavrl/lib/python3.11/site-packages/dgl/core.py:82: DGLWarning: The input graph for the user-defined edge function does not contain valid edges\n",
      "  dgl_warning(\n",
      "/Users/shyue/miniconda3/envs/mavrl/lib/python3.11/site-packages/ase/filters.py:600: RuntimeWarning: logm result may be inaccurate, approximate err = 2.222647387488954e-13\n",
      "  pos[natoms:] = self.logm(pos[natoms:]) * self.exp_cell_factor\n",
      "/Users/shyue/miniconda3/envs/mavrl/lib/python3.11/site-packages/ase/filters.py:600: RuntimeWarning: logm result may be inaccurate, approximate err = 5.140338835627472e-13\n",
      "  pos[natoms:] = self.logm(pos[natoms:]) * self.exp_cell_factor\n",
      "/Users/shyue/miniconda3/envs/mavrl/lib/python3.11/site-packages/ase/filters.py:600: RuntimeWarning: logm result may be inaccurate, approximate err = 5.080568772648669e-13\n",
      "  pos[natoms:] = self.logm(pos[natoms:]) * self.exp_cell_factor\n",
      "/Users/shyue/miniconda3/envs/mavrl/lib/python3.11/site-packages/ase/filters.py:600: RuntimeWarning: logm result may be inaccurate, approximate err = 5.06580197939016e-13\n",
      "  pos[natoms:] = self.logm(pos[natoms:]) * self.exp_cell_factor\n",
      "/Users/shyue/miniconda3/envs/mavrl/lib/python3.11/site-packages/ase/filters.py:600: RuntimeWarning: logm result may be inaccurate, approximate err = 5.069895787952757e-13\n",
      "  pos[natoms:] = self.logm(pos[natoms:]) * self.exp_cell_factor\n",
      "/Users/shyue/miniconda3/envs/mavrl/lib/python3.11/site-packages/ase/filters.py:600: RuntimeWarning: logm result may be inaccurate, approximate err = 5.073957383963146e-13\n",
      "  pos[natoms:] = self.logm(pos[natoms:]) * self.exp_cell_factor\n",
      "/Users/shyue/miniconda3/envs/mavrl/lib/python3.11/site-packages/ase/filters.py:600: RuntimeWarning: logm result may be inaccurate, approximate err = 5.127966762447398e-13\n",
      "  pos[natoms:] = self.logm(pos[natoms:]) * self.exp_cell_factor\n",
      "/Users/shyue/miniconda3/envs/mavrl/lib/python3.11/site-packages/ase/filters.py:600: RuntimeWarning: logm result may be inaccurate, approximate err = 5.082345886181665e-13\n",
      "  pos[natoms:] = self.logm(pos[natoms:]) * self.exp_cell_factor\n",
      "/Users/shyue/miniconda3/envs/mavrl/lib/python3.11/site-packages/dgl/core.py:82: DGLWarning: The input graph for the user-defined edge function does not contain valid edges\n",
      "  dgl_warning(\n",
      "/Users/shyue/miniconda3/envs/mavrl/lib/python3.11/site-packages/ase/filters.py:600: RuntimeWarning: logm result may be inaccurate, approximate err = 5.055989730818448e-13\n",
      "  pos[natoms:] = self.logm(pos[natoms:]) * self.exp_cell_factor\n",
      "/Users/shyue/miniconda3/envs/mavrl/lib/python3.11/site-packages/ase/filters.py:600: RuntimeWarning: logm result may be inaccurate, approximate err = 5.064361418424282e-13\n",
      "  pos[natoms:] = self.logm(pos[natoms:]) * self.exp_cell_factor\n",
      "/Users/shyue/miniconda3/envs/mavrl/lib/python3.11/site-packages/ase/filters.py:600: RuntimeWarning: logm result may be inaccurate, approximate err = 5.073281386819943e-13\n",
      "  pos[natoms:] = self.logm(pos[natoms:]) * self.exp_cell_factor\n",
      "/Users/shyue/miniconda3/envs/mavrl/lib/python3.11/site-packages/ase/filters.py:600: RuntimeWarning: logm result may be inaccurate, approximate err = 5.101139086200643e-13\n",
      "  pos[natoms:] = self.logm(pos[natoms:]) * self.exp_cell_factor\n",
      "/Users/shyue/miniconda3/envs/mavrl/lib/python3.11/site-packages/ase/filters.py:600: RuntimeWarning: logm result may be inaccurate, approximate err = 5.091748815753274e-13\n",
      "  pos[natoms:] = self.logm(pos[natoms:]) * self.exp_cell_factor\n",
      "/Users/shyue/miniconda3/envs/mavrl/lib/python3.11/site-packages/ase/filters.py:600: RuntimeWarning: logm result may be inaccurate, approximate err = 5.083252274448773e-13\n",
      "  pos[natoms:] = self.logm(pos[natoms:]) * self.exp_cell_factor\n",
      "/Users/shyue/miniconda3/envs/mavrl/lib/python3.11/site-packages/ase/filters.py:600: RuntimeWarning: logm result may be inaccurate, approximate err = 5.081027317743819e-13\n",
      "  pos[natoms:] = self.logm(pos[natoms:]) * self.exp_cell_factor\n",
      "/Users/shyue/miniconda3/envs/mavrl/lib/python3.11/site-packages/ase/filters.py:600: RuntimeWarning: logm result may be inaccurate, approximate err = 5.068740216251715e-13\n",
      "  pos[natoms:] = self.logm(pos[natoms:]) * self.exp_cell_factor\n",
      "/Users/shyue/miniconda3/envs/mavrl/lib/python3.11/site-packages/ase/filters.py:600: RuntimeWarning: logm result may be inaccurate, approximate err = 5.124051216294748e-13\n",
      "  pos[natoms:] = self.logm(pos[natoms:]) * self.exp_cell_factor\n",
      "/Users/shyue/miniconda3/envs/mavrl/lib/python3.11/site-packages/ase/filters.py:600: RuntimeWarning: logm result may be inaccurate, approximate err = 5.0791587237821e-13\n",
      "  pos[natoms:] = self.logm(pos[natoms:]) * self.exp_cell_factor\n",
      "/Users/shyue/miniconda3/envs/mavrl/lib/python3.11/site-packages/ase/filters.py:600: RuntimeWarning: logm result may be inaccurate, approximate err = 2.7742090336621994e-13\n",
      "  pos[natoms:] = self.logm(pos[natoms:]) * self.exp_cell_factor\n",
      "/Users/shyue/miniconda3/envs/mavrl/lib/python3.11/site-packages/ase/filters.py:600: RuntimeWarning: logm result may be inaccurate, approximate err = 2.709268514944375e-13\n",
      "  pos[natoms:] = self.logm(pos[natoms:]) * self.exp_cell_factor\n",
      "/Users/shyue/miniconda3/envs/mavrl/lib/python3.11/site-packages/ase/filters.py:600: RuntimeWarning: logm result may be inaccurate, approximate err = 2.742873746880114e-13\n",
      "  pos[natoms:] = self.logm(pos[natoms:]) * self.exp_cell_factor\n",
      "/Users/shyue/miniconda3/envs/mavrl/lib/python3.11/site-packages/ase/filters.py:600: RuntimeWarning: logm result may be inaccurate, approximate err = 2.7430909002042245e-13\n",
      "  pos[natoms:] = self.logm(pos[natoms:]) * self.exp_cell_factor\n",
      "/Users/shyue/miniconda3/envs/mavrl/lib/python3.11/site-packages/ase/filters.py:600: RuntimeWarning: logm result may be inaccurate, approximate err = 2.768891709089071e-13\n",
      "  pos[natoms:] = self.logm(pos[natoms:]) * self.exp_cell_factor\n",
      "/Users/shyue/repos/matgl/src/matgl/apps/pes.py:69: UserWarning: To copy construct from a tensor, it is recommended to use sourceTensor.clone().detach() or sourceTensor.clone().detach().requires_grad_(True), rather than torch.tensor(sourceTensor).\n",
      "  self.element_refs = AtomRef(property_offset=torch.tensor(element_refs, dtype=matgl.float_th))\n",
      "/Users/shyue/repos/matgl/src/matgl/apps/pes.py:75: UserWarning: To copy construct from a tensor, it is recommended to use sourceTensor.clone().detach() or sourceTensor.clone().detach().requires_grad_(True), rather than torch.tensor(sourceTensor).\n",
      "  self.register_buffer(\"data_mean\", torch.tensor(data_mean, dtype=matgl.float_th))\n",
      "/Users/shyue/repos/matgl/src/matgl/apps/pes.py:76: UserWarning: To copy construct from a tensor, it is recommended to use sourceTensor.clone().detach() or sourceTensor.clone().detach().requires_grad_(True), rather than torch.tensor(sourceTensor).\n",
      "  self.register_buffer(\"data_std\", torch.tensor(data_std, dtype=matgl.float_th))\n",
      "/Users/shyue/miniconda3/envs/mavrl/lib/python3.11/site-packages/ase/filters.py:600: RuntimeWarning: logm result may be inaccurate, approximate err = 2.2362765539659272e-13\n",
      "  pos[natoms:] = self.logm(pos[natoms:]) * self.exp_cell_factor\n",
      "/Users/shyue/miniconda3/envs/mavrl/lib/python3.11/site-packages/ase/filters.py:600: RuntimeWarning: logm result may be inaccurate, approximate err = 5.054347537807651e-13\n",
      "  pos[natoms:] = self.logm(pos[natoms:]) * self.exp_cell_factor\n",
      "/Users/shyue/miniconda3/envs/mavrl/lib/python3.11/site-packages/ase/filters.py:600: RuntimeWarning: logm result may be inaccurate, approximate err = 5.102773195577899e-13\n",
      "  pos[natoms:] = self.logm(pos[natoms:]) * self.exp_cell_factor\n",
      "/Users/shyue/miniconda3/envs/mavrl/lib/python3.11/site-packages/ase/filters.py:600: RuntimeWarning: logm result may be inaccurate, approximate err = 2.2721871178482007e-13\n",
      "  pos[natoms:] = self.logm(pos[natoms:]) * self.exp_cell_factor\n",
      "/Users/shyue/miniconda3/envs/mavrl/lib/python3.11/site-packages/ase/filters.py:600: RuntimeWarning: logm result may be inaccurate, approximate err = 5.077431006723649e-13\n",
      "  pos[natoms:] = self.logm(pos[natoms:]) * self.exp_cell_factor\n",
      "/Users/shyue/miniconda3/envs/mavrl/lib/python3.11/site-packages/ase/filters.py:600: RuntimeWarning: logm result may be inaccurate, approximate err = 5.047220805922673e-13\n",
      "  pos[natoms:] = self.logm(pos[natoms:]) * self.exp_cell_factor\n",
      "/Users/shyue/miniconda3/envs/mavrl/lib/python3.11/site-packages/ase/filters.py:600: RuntimeWarning: logm result may be inaccurate, approximate err = 5.050900611460107e-13\n",
      "  pos[natoms:] = self.logm(pos[natoms:]) * self.exp_cell_factor\n",
      "/Users/shyue/miniconda3/envs/mavrl/lib/python3.11/site-packages/ase/filters.py:600: RuntimeWarning: logm result may be inaccurate, approximate err = 5.083633795839102e-13\n",
      "  pos[natoms:] = self.logm(pos[natoms:]) * self.exp_cell_factor\n",
      "/Users/shyue/miniconda3/envs/mavrl/lib/python3.11/site-packages/ase/filters.py:600: RuntimeWarning: logm result may be inaccurate, approximate err = 5.050902724250646e-13\n",
      "  pos[natoms:] = self.logm(pos[natoms:]) * self.exp_cell_factor\n",
      "/Users/shyue/miniconda3/envs/mavrl/lib/python3.11/site-packages/ase/filters.py:600: RuntimeWarning: logm result may be inaccurate, approximate err = 5.070658102853475e-13\n",
      "  pos[natoms:] = self.logm(pos[natoms:]) * self.exp_cell_factor\n",
      "/Users/shyue/miniconda3/envs/mavrl/lib/python3.11/site-packages/ase/filters.py:600: RuntimeWarning: logm result may be inaccurate, approximate err = 5.107477249851741e-13\n",
      "  pos[natoms:] = self.logm(pos[natoms:]) * self.exp_cell_factor\n",
      "/Users/shyue/miniconda3/envs/mavrl/lib/python3.11/site-packages/ase/filters.py:600: RuntimeWarning: logm result may be inaccurate, approximate err = 5.033945978211858e-13\n",
      "  pos[natoms:] = self.logm(pos[natoms:]) * self.exp_cell_factor\n",
      "/Users/shyue/miniconda3/envs/mavrl/lib/python3.11/site-packages/ase/filters.py:600: RuntimeWarning: logm result may be inaccurate, approximate err = 5.045973709631486e-13\n",
      "  pos[natoms:] = self.logm(pos[natoms:]) * self.exp_cell_factor\n",
      "/Users/shyue/miniconda3/envs/mavrl/lib/python3.11/site-packages/ase/filters.py:600: RuntimeWarning: logm result may be inaccurate, approximate err = 5.072316453990198e-13\n",
      "  pos[natoms:] = self.logm(pos[natoms:]) * self.exp_cell_factor\n",
      "/Users/shyue/miniconda3/envs/mavrl/lib/python3.11/site-packages/ase/filters.py:600: RuntimeWarning: logm result may be inaccurate, approximate err = 2.7753201574315675e-13\n",
      "  pos[natoms:] = self.logm(pos[natoms:]) * self.exp_cell_factor\n",
      "/Users/shyue/miniconda3/envs/mavrl/lib/python3.11/site-packages/ase/filters.py:600: RuntimeWarning: logm result may be inaccurate, approximate err = 2.7350620551762567e-13\n",
      "  pos[natoms:] = self.logm(pos[natoms:]) * self.exp_cell_factor\n",
      "/Users/shyue/miniconda3/envs/mavrl/lib/python3.11/site-packages/ase/filters.py:600: RuntimeWarning: logm result may be inaccurate, approximate err = 2.7219600926842573e-13\n",
      "  pos[natoms:] = self.logm(pos[natoms:]) * self.exp_cell_factor\n",
      "/Users/shyue/miniconda3/envs/mavrl/lib/python3.11/site-packages/ase/filters.py:600: RuntimeWarning: logm result may be inaccurate, approximate err = 2.743591475484403e-13\n",
      "  pos[natoms:] = self.logm(pos[natoms:]) * self.exp_cell_factor\n",
      "/Users/shyue/miniconda3/envs/mavrl/lib/python3.11/site-packages/ase/filters.py:600: RuntimeWarning: logm result may be inaccurate, approximate err = 2.83445041647702e-13\n",
      "  pos[natoms:] = self.logm(pos[natoms:]) * self.exp_cell_factor\n",
      "/Users/shyue/miniconda3/envs/mavrl/lib/python3.11/site-packages/ase/filters.py:600: RuntimeWarning: logm result may be inaccurate, approximate err = 2.779318470973653e-13\n",
      "  pos[natoms:] = self.logm(pos[natoms:]) * self.exp_cell_factor\n",
      "/Users/shyue/miniconda3/envs/mavrl/lib/python3.11/site-packages/ase/filters.py:600: RuntimeWarning: logm result may be inaccurate, approximate err = 2.7864886990816315e-13\n",
      "  pos[natoms:] = self.logm(pos[natoms:]) * self.exp_cell_factor\n",
      "/Users/shyue/miniconda3/envs/mavrl/lib/python3.11/site-packages/ase/filters.py:600: RuntimeWarning: logm result may be inaccurate, approximate err = 2.754141866837261e-13\n",
      "  pos[natoms:] = self.logm(pos[natoms:]) * self.exp_cell_factor\n",
      "/Users/shyue/miniconda3/envs/mavrl/lib/python3.11/site-packages/ase/filters.py:600: RuntimeWarning: logm result may be inaccurate, approximate err = 2.6984287195309347e-13\n",
      "  pos[natoms:] = self.logm(pos[natoms:]) * self.exp_cell_factor\n",
      "/Users/shyue/miniconda3/envs/mavrl/lib/python3.11/site-packages/ase/filters.py:600: RuntimeWarning: logm result may be inaccurate, approximate err = 2.761159498999532e-13\n",
      "  pos[natoms:] = self.logm(pos[natoms:]) * self.exp_cell_factor\n",
      "/Users/shyue/miniconda3/envs/mavrl/lib/python3.11/site-packages/ase/filters.py:600: RuntimeWarning: logm result may be inaccurate, approximate err = 2.7603384558172673e-13\n",
      "  pos[natoms:] = self.logm(pos[natoms:]) * self.exp_cell_factor\n"
     ]
    }
   ],
   "source": [
    "results = {}\n",
    "for model_name in [\n",
    "    \"M3GNet-MatPES-PBE-v2025.1-PES\",\n",
    "    \"TensorNet-MatPES-PBE-v2025.1-PES\",\n",
    "]:\n",
    "    calculator = PESCalculator.load_universal(model_name)\n",
    "    short_name = model_name.split(\"-\")[0]\n",
    "    with warnings.catch_warnings():\n",
    "        warnings.simplefilter(\"ignore\")\n",
    "        results[short_name] = run_elasticity_benchmark(calculator, short_name, n_samples=100, seed=2025)"
   ]
  },
  {
   "cell_type": "code",
   "execution_count": null,
   "id": "4",
   "metadata": {},
   "outputs": [],
   "source": [
    "df = pd.merge(results[\"M3GNet\"], results[\"TensorNet\"], on='mp_id', how='inner')"
   ]
  },
  {
   "cell_type": "code",
   "execution_count": null,
   "id": "5",
   "metadata": {},
   "outputs": [],
   "source": [
    "# To dump the results to a csv file, uncomment the code below.\n",
    "# results.to_csv(\"MatCalc-Benchmark-elasticity.csv\")"
   ]
  },
  {
   "cell_type": "code",
   "execution_count": null,
   "id": "6",
   "metadata": {},
   "outputs": [
    {
     "name": "stdout",
     "output_type": "stream",
     "text": [
      "MAE K_TensorNet = 20.9\n",
      "MAE K_M3GNet = 33.9\n",
      "MAE G_TensorNet = 12.9\n",
      "MAE G_M3GNet = 16.9\n"
     ]
    }
   ],
   "source": [
    "mae_k_tensornet = df[\"AE K TensorNet\"].mean()\n",
    "mae_k_m3gnet = df[\"AE K M3GNet\"].mean()\n",
    "mae_g_tensornet = df[\"AE G TensorNet\"].mean()\n",
    "mae_g_m3gnet = df[\"AE G M3GNet\"].mean()\n",
    "\n",
    "print(f\"MAE K_TensorNet = {mae_k_tensornet:.1f}\")\n",
    "print(f\"MAE K_M3GNet = {mae_k_m3gnet:.1f}\")\n",
    "print(f\"MAE G_TensorNet = {mae_g_tensornet:.1f}\")\n",
    "print(f\"MAE G_M3GNet = {mae_g_m3gnet:.1f}\")"
   ]
  },
  {
   "cell_type": "markdown",
   "id": "7",
   "metadata": {},
   "source": [
    "# Statistical significance test\n",
    "\n",
    "When comparing the performance of models, it is important to not just look at the final MAE but also to perform a rigorous statistical test of whether there is a significant difference between the MAEs. Since the model predictions are for the same set of compounds, this can be done using the paired t-test. See: https://www.jmp.com/en/statistics-knowledge-portal/t-test/two-sample-t-test"
   ]
  },
  {
   "cell_type": "code",
   "execution_count": null,
   "id": "8",
   "metadata": {},
   "outputs": [],
   "source": [
    "from scipy.stats import ttest_rel"
   ]
  },
  {
   "cell_type": "code",
   "execution_count": null,
   "id": "9",
   "metadata": {},
   "outputs": [
    {
     "name": "stdout",
     "output_type": "stream",
     "text": [
      "TtestResult(statistic=-3.242337016035638, pvalue=0.0016161285714116364, df=99)\n",
      "TtestResult(statistic=-2.1084779949176915, pvalue=0.03751396338840221, df=99)\n"
     ]
    }
   ],
   "source": [
    "print(ttest_rel(df[\"AE K TensorNet\"], df[\"AE K M3GNet\"]))\n",
    "print(ttest_rel(df[\"AE G TensorNet\"], df[\"AE G M3GNet\"]))"
   ]
  },
  {
   "cell_type": "markdown",
   "id": "10",
   "metadata": {},
   "source": [
    "At an alpha of 5%, the p values show that we **reject the null hypothesis that the MAEs in K and G of the two models are the same**, i.e., the differences in MAEs of the two models are statistically signficiant for both K and G."
   ]
  }
 ],
 "metadata": {
  "kernelspec": {
   "display_name": "Python 3 (ipykernel)",
   "language": "python",
   "name": "python3"
  },
  "language_info": {
   "codemirror_mode": {
    "name": "ipython",
    "version": 3
   },
   "file_extension": ".py",
   "mimetype": "text/x-python",
   "name": "python",
   "nbconvert_exporter": "python",
   "pygments_lexer": "ipython3",
   "version": "3.11.10"
  }
 },
 "nbformat": 4,
 "nbformat_minor": 5
}
