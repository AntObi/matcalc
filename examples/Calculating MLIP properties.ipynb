{
 "cells": [
  {
   "cell_type": "code",
   "execution_count": null,
   "id": "0",
   "metadata": {},
   "outputs": [],
   "source": [
    "from __future__ import annotations\n",
    "\n",
    "import warnings\n",
    "from time import perf_counter\n",
    "\n",
    "import matplotlib.pyplot as plt\n",
    "from mp_api.client import MPRester\n",
    "from tqdm import tqdm\n",
    "\n",
    "from matcalc import ElasticityCalc, EOSCalc, PESCalculator, PhononCalc, RelaxCalc\n",
    "\n",
    "warnings.filterwarnings(\"ignore\", category=UserWarning, module=\"matgl\")\n",
    "warnings.filterwarnings(\"ignore\", category=DeprecationWarning, module=\"spglib\")"
   ]
  },
  {
   "cell_type": "code",
   "execution_count": null,
   "id": "1",
   "metadata": {},
   "outputs": [
    {
     "data": {
      "application/vnd.jupyter.widget-view+json": {
       "model_id": "1fb73ce9766f4004a1834f312c604c4a",
       "version_major": 2,
       "version_minor": 0
      },
      "text/plain": [
       "Retrieving SummaryDoc documents:   0%|          | 0/5 [00:00<?, ?it/s]"
      ]
     },
     "metadata": {},
     "output_type": "display_data"
    }
   ],
   "source": [
    "mp_data = MPRester().materials.summary.search(\n",
    "    formula=[\"LiCl\", \"NaCl\"], fields=[\"material_id\", \"structure\"], num_chunks=1, chunk_size=10\n",
    ")"
   ]
  },
  {
   "cell_type": "code",
   "execution_count": null,
   "id": "2",
   "metadata": {},
   "outputs": [],
   "source": [
    "models = [(name, PESCalculator.load_universal(name)) for name in (\"M3GNet\", \"CHGNet\")]"
   ]
  },
  {
   "cell_type": "code",
   "execution_count": null,
   "id": "3",
   "metadata": {},
   "outputs": [],
   "source": [
    "fmax = 0.1\n",
    "opt = \"BFGSLineSearch\""
   ]
  },
  {
   "cell_type": "code",
   "execution_count": null,
   "id": "4",
   "metadata": {},
   "outputs": [
    {
     "name": "stderr",
     "output_type": "stream",
     "text": [
      "Running mp-1120767 (Na6 Cl6):   0%|                                                                                                                                    | 0/5 [00:00<?, ?it/s]/Users/shyue/miniconda3/envs/mavrl/lib/python3.11/site-packages/phonopy/structure/cells.py:1482: UserWarning: Crystal structure is distorted in a tricky way so that phonopy could not handle the crystal symmetry properly. It is recommended to symmetrize crystal structure well and then re-start phonon calculation from scratch.\n",
      "  perm_between = _compute_permutation_c(sorted_a, sorted_b, lattice, symprec)\n",
      "/Users/shyue/miniconda3/envs/mavrl/lib/python3.11/site-packages/dgl/core.py:82: DGLWarning: The input graph for the user-defined edge function does not contain valid edges\n",
      "  dgl_warning(\n",
      "/Users/shyue/miniconda3/envs/mavrl/lib/python3.11/site-packages/phonopy/structure/cells.py:1482: UserWarning: Crystal structure is distorted in a tricky way so that phonopy could not handle the crystal symmetry properly. It is recommended to symmetrize crystal structure well and then re-start phonon calculation from scratch.\n",
      "  perm_between = _compute_permutation_c(sorted_a, sorted_b, lattice, symprec)\n",
      "Running mp-22851 (Na1 Cl1):  20%|█████████████████████████▏                                                                                                    | 1/5 [00:22<01:29, 22.40s/it]/Users/shyue/miniconda3/envs/mavrl/lib/python3.11/site-packages/dgl/core.py:82: DGLWarning: The input graph for the user-defined edge function does not contain valid edges\n",
      "  dgl_warning(\n",
      "/Users/shyue/miniconda3/envs/mavrl/lib/python3.11/site-packages/dgl/core.py:82: DGLWarning: The input graph for the user-defined edge function does not contain valid edges\n",
      "  dgl_warning(\n",
      "Running mp-22862 (Na1 Cl1):  40%|██████████████████████████████████████████████████▍                                                                           | 2/5 [00:25<00:33, 11.08s/it]/Users/shyue/miniconda3/envs/mavrl/lib/python3.11/site-packages/dgl/core.py:82: DGLWarning: The input graph for the user-defined edge function does not contain valid edges\n",
      "  dgl_warning(\n",
      "Running mp-22905 (Li1 Cl1): 100%|██████████████████████████████████████████████████████████████████████████████████████████████████████████████████████████████| 5/5 [00:40<00:00,  8.09s/it]\n"
     ]
    }
   ],
   "source": [
    "prop_preds = []\n",
    "\n",
    "for dct in (pbar := tqdm(mp_data[:10])):  # Here we just do a sampling of 20 structures.\n",
    "    mat_id, formula = dct.material_id, dct.structure.formula\n",
    "    pbar.set_description(f\"Running {mat_id} ({formula})\")\n",
    "    model_preds = {\"material_id\": mat_id, \"formula\": formula, \"nsites\": len(dct.structure)}\n",
    "\n",
    "    for model_name, model in models:\n",
    "        # The general principle is to do a relaxation first and just reuse the same structure.\n",
    "        prop_calcs = [\n",
    "            (\"relax\", RelaxCalc(model, fmax=fmax, optimizer=opt)),\n",
    "            (\"elastic\", ElasticityCalc(model, fmax=fmax, relax_structure=False)),\n",
    "            (\"eos\", EOSCalc(model, fmax=fmax, relax_structure=False, optimizer=opt)),\n",
    "            (\"phonon\", PhononCalc(model, fmax=fmax, relax_structure=False)),\n",
    "        ]\n",
    "        properties = {}\n",
    "        for name, prop_calc in prop_calcs:\n",
    "            start_time = perf_counter()\n",
    "            properties[name] = prop_calc.calc(dct.structure)\n",
    "            if name == \"relax\":\n",
    "                # Replace the structure with the one from relaxation for other property computations.\n",
    "                struct = properties[name][\"final_structure\"]\n",
    "            model_preds[f\"time_{name}_{model_name}\"] = perf_counter() - start_time\n",
    "        model_preds[model_name] = properties\n",
    "    prop_preds.append(model_preds)"
   ]
  },
  {
   "cell_type": "code",
   "execution_count": null,
   "id": "5",
   "metadata": {},
   "outputs": [],
   "source": [
    "import pandas as pd\n",
    "\n",
    "df_preds = pd.DataFrame(prop_preds)\n",
    "for model_name, _ in models:\n",
    "    df_preds[f\"time_total_{model_name}\"] = (\n",
    "        df_preds[f\"time_relax_{model_name}\"]\n",
    "        + df_preds[f\"time_elastic_{model_name}\"]\n",
    "        + df_preds[f\"time_phonon_{model_name}\"]\n",
    "        + df_preds[f\"time_eos_{model_name}\"]\n",
    "    )"
   ]
  },
  {
   "cell_type": "code",
   "execution_count": null,
   "id": "6",
   "metadata": {},
   "outputs": [
    {
     "data": {
      "text/html": [
       "<div>\n",
       "<style scoped>\n",
       "    .dataframe tbody tr th:only-of-type {\n",
       "        vertical-align: middle;\n",
       "    }\n",
       "\n",
       "    .dataframe tbody tr th {\n",
       "        vertical-align: top;\n",
       "    }\n",
       "\n",
       "    .dataframe thead th {\n",
       "        text-align: right;\n",
       "    }\n",
       "</style>\n",
       "<table border=\"1\" class=\"dataframe\">\n",
       "  <thead>\n",
       "    <tr style=\"text-align: right;\">\n",
       "      <th></th>\n",
       "      <th>material_id</th>\n",
       "      <th>formula</th>\n",
       "      <th>nsites</th>\n",
       "      <th>time_relax_M3GNet</th>\n",
       "      <th>time_elastic_M3GNet</th>\n",
       "      <th>time_eos_M3GNet</th>\n",
       "      <th>time_phonon_M3GNet</th>\n",
       "      <th>M3GNet</th>\n",
       "      <th>time_relax_CHGNet</th>\n",
       "      <th>time_elastic_CHGNet</th>\n",
       "      <th>time_eos_CHGNet</th>\n",
       "      <th>time_phonon_CHGNet</th>\n",
       "      <th>CHGNet</th>\n",
       "      <th>time_total_M3GNet</th>\n",
       "      <th>time_total_CHGNet</th>\n",
       "    </tr>\n",
       "  </thead>\n",
       "  <tbody>\n",
       "    <tr>\n",
       "      <th>0</th>\n",
       "      <td>mp-1120767</td>\n",
       "      <td>Na6 Cl6</td>\n",
       "      <td>12</td>\n",
       "      <td>0.135454</td>\n",
       "      <td>3.053201</td>\n",
       "      <td>1.598205</td>\n",
       "      <td>2.911434</td>\n",
       "      <td>{'relax': {'final_structure': [[-2.27515821  3...</td>\n",
       "      <td>0.342480</td>\n",
       "      <td>7.674351</td>\n",
       "      <td>2.772426</td>\n",
       "      <td>3.912949</td>\n",
       "      <td>{'relax': {'final_structure': [[-2.27515821  3...</td>\n",
       "      <td>7.698293</td>\n",
       "      <td>14.702205</td>\n",
       "    </tr>\n",
       "    <tr>\n",
       "      <th>1</th>\n",
       "      <td>mp-22851</td>\n",
       "      <td>Na1 Cl1</td>\n",
       "      <td>2</td>\n",
       "      <td>0.027752</td>\n",
       "      <td>0.355090</td>\n",
       "      <td>0.136402</td>\n",
       "      <td>0.453617</td>\n",
       "      <td>{'relax': {'final_structure': [[0. 0. 0.] Na, ...</td>\n",
       "      <td>0.109993</td>\n",
       "      <td>0.994192</td>\n",
       "      <td>0.363952</td>\n",
       "      <td>0.706294</td>\n",
       "      <td>{'relax': {'final_structure': [[0. 0. 0.] Na, ...</td>\n",
       "      <td>0.972861</td>\n",
       "      <td>2.174431</td>\n",
       "    </tr>\n",
       "    <tr>\n",
       "      <th>2</th>\n",
       "      <td>mp-22862</td>\n",
       "      <td>Na1 Cl1</td>\n",
       "      <td>2</td>\n",
       "      <td>0.040585</td>\n",
       "      <td>0.323761</td>\n",
       "      <td>0.137622</td>\n",
       "      <td>0.522284</td>\n",
       "      <td>{'relax': {'final_structure': [[2.23230856e-07...</td>\n",
       "      <td>0.136384</td>\n",
       "      <td>0.901810</td>\n",
       "      <td>0.352454</td>\n",
       "      <td>0.747818</td>\n",
       "      <td>{'relax': {'final_structure': [[-8.15455981e-0...</td>\n",
       "      <td>1.024252</td>\n",
       "      <td>2.138466</td>\n",
       "    </tr>\n",
       "    <tr>\n",
       "      <th>3</th>\n",
       "      <td>mp-1185319</td>\n",
       "      <td>Li2 Cl2</td>\n",
       "      <td>4</td>\n",
       "      <td>0.022864</td>\n",
       "      <td>0.568282</td>\n",
       "      <td>0.201292</td>\n",
       "      <td>2.356742</td>\n",
       "      <td>{'relax': {'final_structure': [[0.         0. ...</td>\n",
       "      <td>0.055026</td>\n",
       "      <td>1.256125</td>\n",
       "      <td>0.477806</td>\n",
       "      <td>2.971281</td>\n",
       "      <td>{'relax': {'final_structure': [[0.         0. ...</td>\n",
       "      <td>3.149180</td>\n",
       "      <td>4.760239</td>\n",
       "    </tr>\n",
       "    <tr>\n",
       "      <th>4</th>\n",
       "      <td>mp-22905</td>\n",
       "      <td>Li1 Cl1</td>\n",
       "      <td>2</td>\n",
       "      <td>0.039179</td>\n",
       "      <td>0.377370</td>\n",
       "      <td>0.150175</td>\n",
       "      <td>0.655296</td>\n",
       "      <td>{'relax': {'final_structure': [[ 9.82945868e-0...</td>\n",
       "      <td>0.205040</td>\n",
       "      <td>1.170390</td>\n",
       "      <td>0.441206</td>\n",
       "      <td>0.807996</td>\n",
       "      <td>{'relax': {'final_structure': [[-6.67281562e-0...</td>\n",
       "      <td>1.222021</td>\n",
       "      <td>2.624632</td>\n",
       "    </tr>\n",
       "  </tbody>\n",
       "</table>\n",
       "</div>"
      ],
      "text/plain": [
       "  material_id  formula  nsites  time_relax_M3GNet  time_elastic_M3GNet  \\\n",
       "0  mp-1120767  Na6 Cl6      12           0.135454             3.053201   \n",
       "1    mp-22851  Na1 Cl1       2           0.027752             0.355090   \n",
       "2    mp-22862  Na1 Cl1       2           0.040585             0.323761   \n",
       "3  mp-1185319  Li2 Cl2       4           0.022864             0.568282   \n",
       "4    mp-22905  Li1 Cl1       2           0.039179             0.377370   \n",
       "\n",
       "   time_eos_M3GNet  time_phonon_M3GNet  \\\n",
       "0         1.598205            2.911434   \n",
       "1         0.136402            0.453617   \n",
       "2         0.137622            0.522284   \n",
       "3         0.201292            2.356742   \n",
       "4         0.150175            0.655296   \n",
       "\n",
       "                                              M3GNet  time_relax_CHGNet  \\\n",
       "0  {'relax': {'final_structure': [[-2.27515821  3...           0.342480   \n",
       "1  {'relax': {'final_structure': [[0. 0. 0.] Na, ...           0.109993   \n",
       "2  {'relax': {'final_structure': [[2.23230856e-07...           0.136384   \n",
       "3  {'relax': {'final_structure': [[0.         0. ...           0.055026   \n",
       "4  {'relax': {'final_structure': [[ 9.82945868e-0...           0.205040   \n",
       "\n",
       "   time_elastic_CHGNet  time_eos_CHGNet  time_phonon_CHGNet  \\\n",
       "0             7.674351         2.772426            3.912949   \n",
       "1             0.994192         0.363952            0.706294   \n",
       "2             0.901810         0.352454            0.747818   \n",
       "3             1.256125         0.477806            2.971281   \n",
       "4             1.170390         0.441206            0.807996   \n",
       "\n",
       "                                              CHGNet  time_total_M3GNet  \\\n",
       "0  {'relax': {'final_structure': [[-2.27515821  3...           7.698293   \n",
       "1  {'relax': {'final_structure': [[0. 0. 0.] Na, ...           0.972861   \n",
       "2  {'relax': {'final_structure': [[-8.15455981e-0...           1.024252   \n",
       "3  {'relax': {'final_structure': [[0.         0. ...           3.149180   \n",
       "4  {'relax': {'final_structure': [[-6.67281562e-0...           1.222021   \n",
       "\n",
       "   time_total_CHGNet  \n",
       "0          14.702205  \n",
       "1           2.174431  \n",
       "2           2.138466  \n",
       "3           4.760239  \n",
       "4           2.624632  "
      ]
     },
     "execution_count": null,
     "metadata": {},
     "output_type": "execute_result"
    }
   ],
   "source": [
    "df_preds"
   ]
  },
  {
   "cell_type": "code",
   "execution_count": null,
   "id": "7",
   "metadata": {},
   "outputs": [
    {
     "data": {
      "image/png": "[encoded data removed]",
      "text/plain": [
       "<Figure size 640x480 with 4 Axes>"
      ]
     },
     "metadata": {},
     "output_type": "display_data"
    }
   ],
   "source": [
    "fig, axes = plt.subplots(2, 2)\n",
    "axes = axes.flatten()\n",
    "for i, (model_name, model) in enumerate(models):\n",
    "    ax = axes[i]\n",
    "    df_preds.plot(x=\"nsites\", y=f\"time_total_{model_name}\", kind=\"scatter\", ax=ax)\n",
    "    ax.set_xlabel(\"Number of sites\")\n",
    "    ax.set_ylabel(\"Time for relaxation (s)\")\n",
    "    ax.set_title(model_name)\n",
    "\n",
    "plt.tight_layout()\n",
    "plt.show()"
   ]
  },
  {
   "cell_type": "code",
   "execution_count": null,
   "id": "8",
   "metadata": {},
   "outputs": [
    {
     "data": {
      "image/png": "[encoded data removed]",
      "text/plain": [
       "<Figure size 640x480 with 1 Axes>"
      ]
     },
     "metadata": {},
     "output_type": "display_data"
    }
   ],
   "source": [
    "for model_name, _ in models[:2]:\n",
    "    ax = df_preds[f\"time_total_{model_name}\"].hist(label=model_name, alpha=0.6)\n",
    "\n",
    "ax.set_xlabel(\"Total Time (s)\")\n",
    "ax.set_ylabel(\"Count\")\n",
    "ax.legend()\n",
    "plt.show()"
   ]
  }
 ],
 "metadata": {
  "kernelspec": {
   "display_name": "Python 3 (ipykernel)",
   "language": "python",
   "name": "python3"
  },
  "language_info": {
   "codemirror_mode": {
    "name": "ipython",
    "version": 3
   },
   "file_extension": ".py",
   "mimetype": "text/x-python",
   "name": "python",
   "nbconvert_exporter": "python",
   "pygments_lexer": "ipython3",
   "version": "3.11.10"
  }
 },
 "nbformat": 4,
 "nbformat_minor": 5
}
