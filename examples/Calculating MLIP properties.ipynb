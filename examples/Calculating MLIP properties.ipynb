{
 "cells": [
  {
   "cell_type": "code",
   "execution_count": 1,
   "id": "1d2ffcb9",
   "metadata": {},
   "outputs": [],
   "source": [
    "from matcalc.relaxation import RelaxCalc\n",
    "from matcalc.phonon import PhononCalc\n",
    "from matcalc.eos import EOSCalc\n",
    "from matcalc.elasticity import ElasticityCalc\n",
    "from matcalc.util import get_universal_calculator\n",
    "from datetime import datetime\n",
    "\n",
    "from pymatgen.ext.matproj import MPRester"
   ]
  },
  {
   "cell_type": "code",
   "execution_count": 2,
   "id": "627237cd",
   "metadata": {},
   "outputs": [
    {
     "name": "stderr",
     "output_type": "stream",
     "text": [
      "/Users/shyue/miniconda3/envs/mavrl/lib/python3.9/site-packages/mp_api/client/mprester.py:182: UserWarning: mpcontribs-client not installed. Install the package to query MPContribs data, or construct pourbaix diagrams: 'pip install mpcontribs-client'\n",
      "  warnings.warn(\n"
     ]
    }
   ],
   "source": [
    "mpr = MPRester()"
   ]
  },
  {
   "cell_type": "code",
   "execution_count": 3,
   "id": "25e6c905",
   "metadata": {},
   "outputs": [
    {
     "data": {
      "application/vnd.jupyter.widget-view+json": {
       "model_id": "fc70e88eeeef4793a53f06a4b6844078",
       "version_major": 2,
       "version_minor": 0
      },
      "text/plain": [
       "Retrieving MaterialsDoc documents:   0%|          | 0/20627 [00:00<?, ?it/s]"
      ]
     },
     "metadata": {},
     "output_type": "display_data"
    }
   ],
   "source": [
    "mpdata = mpr.materials._search(nelements=2, fields=[\"material_id\", \"structure\"])"
   ]
  },
  {
   "cell_type": "code",
   "execution_count": 4,
   "id": "cb64eb7b",
   "metadata": {},
   "outputs": [
    {
     "name": "stderr",
     "output_type": "stream",
     "text": [
      "/Users/shyue/repos/matgl/matgl/utils/io.py:125: UserWarning: Incompatible model version detected! The code will continue to load the model but it is recommended that you provide a path to an updated model, increment your @model_version in model.json if you are confident that the changes are not problematic, or clear your ~/.matgl cache using `python -c \"import matgl; matgl.clear_cache()\"`\n",
      "  _check_ver(cls_, v)  # Check version of any subclasses too.\n"
     ]
    }
   ],
   "source": [
    "calc = get_universal_calculator(\"M3GNet\")"
   ]
  },
  {
   "cell_type": "code",
   "execution_count": 5,
   "id": "dc1cb5b7",
   "metadata": {},
   "outputs": [],
   "source": [
    "fmax = 0.01\n",
    "calculators = [\n",
    "    (\"relax\", RelaxCalc(calc, fmax=fmax)), \n",
    "    (\"elastic\", ElasticityCalc(calc, fmax=fmax, relax_structure=False)), \n",
    "    (\"eos\", EOSCalc(calc, fmax=fmax, relax_structure=False)),\n",
    "    # Note that Phonon usually requires a more stringent fmax criterion and a re-relaxation.\n",
    "    (\"phonon\", PhononCalc(calc, relax_structure=False, fmax=fmax)), \n",
    "]"
   ]
  },
  {
   "cell_type": "code",
   "execution_count": 6,
   "id": "6073bac0",
   "metadata": {},
   "outputs": [
    {
     "name": "stderr",
     "output_type": "stream",
     "text": [
      "/Users/shyue/miniconda3/envs/mavrl/lib/python3.9/site-packages/torch/functional.py:504: UserWarning: torch.meshgrid: in an upcoming release, it will be required to pass the indexing argument. (Triggered internally at /Users/runner/work/pytorch/pytorch/pytorch/aten/src/ATen/native/TensorShape.cpp:3484.)\n",
      "  return _VF.meshgrid(tensors, **kwargs)  # type: ignore[attr-defined]\n"
     ]
    }
   ],
   "source": [
    "data = []\n",
    "\n",
    "for i, d in enumerate(mpdata):\n",
    "    s = d.structure\n",
    "    dd = {\"mid\": d.material_id, \"composition\": s.composition.formula, \"nsites\": len(s)}\n",
    "    properties = {}\n",
    "    for name, c in calculators:\n",
    "        starttime = datetime.now()\n",
    "        properties[name] = c.calc(s)\n",
    "        endtime = datetime.now()\n",
    "        if name == \"relax\":\n",
    "            s = properties[name][\"final_structure\"]\n",
    "        dd[f\"time_{name}\"] = (endtime - starttime).total_seconds()\n",
    "    dd[\"properties\"] = properties\n",
    "    data.append(dd)\n",
    "    if i == 20:\n",
    "        # Here we just do a sampling of 10 structures.\n",
    "        break"
   ]
  },
  {
   "cell_type": "code",
   "execution_count": 7,
   "id": "c8137638",
   "metadata": {},
   "outputs": [],
   "source": [
    "import pandas as pd\n",
    "df = pd.DataFrame(data)"
   ]
  },
  {
   "cell_type": "code",
   "execution_count": 8,
   "id": "551ff93b",
   "metadata": {},
   "outputs": [
    {
     "data": {
      "text/html": [
       "<div>\n",
       "<style scoped>\n",
       "    .dataframe tbody tr th:only-of-type {\n",
       "        vertical-align: middle;\n",
       "    }\n",
       "\n",
       "    .dataframe tbody tr th {\n",
       "        vertical-align: top;\n",
       "    }\n",
       "\n",
       "    .dataframe thead th {\n",
       "        text-align: right;\n",
       "    }\n",
       "</style>\n",
       "<table border=\"1\" class=\"dataframe\">\n",
       "  <thead>\n",
       "    <tr style=\"text-align: right;\">\n",
       "      <th></th>\n",
       "      <th>mid</th>\n",
       "      <th>composition</th>\n",
       "      <th>nsites</th>\n",
       "      <th>time_relax</th>\n",
       "      <th>time_elastic</th>\n",
       "      <th>time_eos</th>\n",
       "      <th>time_phonon</th>\n",
       "      <th>properties</th>\n",
       "    </tr>\n",
       "  </thead>\n",
       "  <tbody>\n",
       "    <tr>\n",
       "      <th>0</th>\n",
       "      <td>mp-1106268</td>\n",
       "      <td>Pr14 Pd6</td>\n",
       "      <td>20</td>\n",
       "      <td>77.461257</td>\n",
       "      <td>0.359916</td>\n",
       "      <td>16.656966</td>\n",
       "      <td>20.689870</td>\n",
       "      <td>{'relax': {'final_structure': [[-5.19302203  2...</td>\n",
       "    </tr>\n",
       "    <tr>\n",
       "      <th>1</th>\n",
       "      <td>mp-974315</td>\n",
       "      <td>Ru2 I2</td>\n",
       "      <td>4</td>\n",
       "      <td>1.087971</td>\n",
       "      <td>0.167771</td>\n",
       "      <td>4.164044</td>\n",
       "      <td>0.701781</td>\n",
       "      <td>{'relax': {'final_structure': [[ 1.83881118 -1...</td>\n",
       "    </tr>\n",
       "    <tr>\n",
       "      <th>2</th>\n",
       "      <td>mp-1206714</td>\n",
       "      <td>Al2 Sn1</td>\n",
       "      <td>3</td>\n",
       "      <td>0.498031</td>\n",
       "      <td>0.127761</td>\n",
       "      <td>0.219811</td>\n",
       "      <td>0.234030</td>\n",
       "      <td>{'relax': {'final_structure': [[1.59917846 1.5...</td>\n",
       "    </tr>\n",
       "    <tr>\n",
       "      <th>3</th>\n",
       "      <td>mp-30339</td>\n",
       "      <td>Er1 Ag2</td>\n",
       "      <td>3</td>\n",
       "      <td>0.576903</td>\n",
       "      <td>0.139824</td>\n",
       "      <td>2.491745</td>\n",
       "      <td>0.424448</td>\n",
       "      <td>{'relax': {'final_structure': [[4.48158802e-07...</td>\n",
       "    </tr>\n",
       "    <tr>\n",
       "      <th>4</th>\n",
       "      <td>mp-696</td>\n",
       "      <td>Si4 Pt4</td>\n",
       "      <td>8</td>\n",
       "      <td>13.694501</td>\n",
       "      <td>0.380450</td>\n",
       "      <td>19.542468</td>\n",
       "      <td>6.921326</td>\n",
       "      <td>{'relax': {'final_structure': [[0.88064361 3.9...</td>\n",
       "    </tr>\n",
       "    <tr>\n",
       "      <th>5</th>\n",
       "      <td>mp-866222</td>\n",
       "      <td>Ac2 Si6</td>\n",
       "      <td>8</td>\n",
       "      <td>18.189615</td>\n",
       "      <td>0.213272</td>\n",
       "      <td>4.789273</td>\n",
       "      <td>2.100197</td>\n",
       "      <td>{'relax': {'final_structure': [[-2.05389424e-0...</td>\n",
       "    </tr>\n",
       "    <tr>\n",
       "      <th>6</th>\n",
       "      <td>mp-11422</td>\n",
       "      <td>Gd1 Hg1</td>\n",
       "      <td>2</td>\n",
       "      <td>0.335899</td>\n",
       "      <td>0.118745</td>\n",
       "      <td>0.184783</td>\n",
       "      <td>0.167658</td>\n",
       "      <td>{'relax': {'final_structure': [[5.55001412e-20...</td>\n",
       "    </tr>\n",
       "    <tr>\n",
       "      <th>7</th>\n",
       "      <td>mp-21238</td>\n",
       "      <td>Th4 Si4</td>\n",
       "      <td>8</td>\n",
       "      <td>5.666338</td>\n",
       "      <td>0.250640</td>\n",
       "      <td>8.395984</td>\n",
       "      <td>0.903534</td>\n",
       "      <td>{'relax': {'final_structure': [[1.08998567 0.7...</td>\n",
       "    </tr>\n",
       "    <tr>\n",
       "      <th>8</th>\n",
       "      <td>mp-1215363</td>\n",
       "      <td>Zr4 Pd1</td>\n",
       "      <td>5</td>\n",
       "      <td>1.580980</td>\n",
       "      <td>0.197285</td>\n",
       "      <td>7.044133</td>\n",
       "      <td>1.127406</td>\n",
       "      <td>{'relax': {'final_structure': [[ 3.93732368e-0...</td>\n",
       "    </tr>\n",
       "    <tr>\n",
       "      <th>9</th>\n",
       "      <td>mp-1212658</td>\n",
       "      <td>Ga1 C6</td>\n",
       "      <td>7</td>\n",
       "      <td>2.389647</td>\n",
       "      <td>0.219955</td>\n",
       "      <td>3.677611</td>\n",
       "      <td>1.335741</td>\n",
       "      <td>{'relax': {'final_structure': [[-9.88259495e-0...</td>\n",
       "    </tr>\n",
       "    <tr>\n",
       "      <th>10</th>\n",
       "      <td>mp-1101922</td>\n",
       "      <td>Eu4 Fe8</td>\n",
       "      <td>12</td>\n",
       "      <td>10.377299</td>\n",
       "      <td>0.384886</td>\n",
       "      <td>24.572080</td>\n",
       "      <td>7.050883</td>\n",
       "      <td>{'relax': {'final_structure': [[-1.87765303e-0...</td>\n",
       "    </tr>\n",
       "    <tr>\n",
       "      <th>11</th>\n",
       "      <td>mp-1183610</td>\n",
       "      <td>Ca2 Sm6</td>\n",
       "      <td>8</td>\n",
       "      <td>1.682067</td>\n",
       "      <td>0.210785</td>\n",
       "      <td>3.253925</td>\n",
       "      <td>0.332110</td>\n",
       "      <td>{'relax': {'final_structure': [[3.63712318 2.0...</td>\n",
       "    </tr>\n",
       "    <tr>\n",
       "      <th>12</th>\n",
       "      <td>mp-1187980</td>\n",
       "      <td>Yb6 Pb2</td>\n",
       "      <td>8</td>\n",
       "      <td>2.901845</td>\n",
       "      <td>0.219499</td>\n",
       "      <td>3.201017</td>\n",
       "      <td>0.826837</td>\n",
       "      <td>{'relax': {'final_structure': [[1.99653039 1.1...</td>\n",
       "    </tr>\n",
       "    <tr>\n",
       "      <th>13</th>\n",
       "      <td>mp-1187953</td>\n",
       "      <td>Yb3 Pb1</td>\n",
       "      <td>4</td>\n",
       "      <td>0.610179</td>\n",
       "      <td>0.128327</td>\n",
       "      <td>0.214635</td>\n",
       "      <td>0.179447</td>\n",
       "      <td>{'relax': {'final_structure': [[-1.32354508e-0...</td>\n",
       "    </tr>\n",
       "    <tr>\n",
       "      <th>14</th>\n",
       "      <td>mp-1185577</td>\n",
       "      <td>Cs2 Hg6</td>\n",
       "      <td>8</td>\n",
       "      <td>1.301506</td>\n",
       "      <td>0.186644</td>\n",
       "      <td>2.512045</td>\n",
       "      <td>1.470826</td>\n",
       "      <td>{'relax': {'final_structure': [[1.82452846e-05...</td>\n",
       "    </tr>\n",
       "    <tr>\n",
       "      <th>15</th>\n",
       "      <td>mp-570436</td>\n",
       "      <td>Ca2 Ir4</td>\n",
       "      <td>6</td>\n",
       "      <td>0.403907</td>\n",
       "      <td>0.254918</td>\n",
       "      <td>0.399306</td>\n",
       "      <td>0.338884</td>\n",
       "      <td>{'relax': {'final_structure': [[2.33200465 1.6...</td>\n",
       "    </tr>\n",
       "    <tr>\n",
       "      <th>16</th>\n",
       "      <td>mp-1184183</td>\n",
       "      <td>Cu1 Ge3</td>\n",
       "      <td>4</td>\n",
       "      <td>0.860642</td>\n",
       "      <td>0.157552</td>\n",
       "      <td>0.310726</td>\n",
       "      <td>0.537036</td>\n",
       "      <td>{'relax': {'final_structure': [[-1.54866517e-0...</td>\n",
       "    </tr>\n",
       "    <tr>\n",
       "      <th>17</th>\n",
       "      <td>mp-1025440</td>\n",
       "      <td>Cu2 Ge6</td>\n",
       "      <td>8</td>\n",
       "      <td>13.462522</td>\n",
       "      <td>0.249049</td>\n",
       "      <td>6.250926</td>\n",
       "      <td>6.068298</td>\n",
       "      <td>{'relax': {'final_structure': [[2.16285319 1.2...</td>\n",
       "    </tr>\n",
       "    <tr>\n",
       "      <th>18</th>\n",
       "      <td>mp-1184147</td>\n",
       "      <td>Cu2 Ge6</td>\n",
       "      <td>8</td>\n",
       "      <td>4.294167</td>\n",
       "      <td>0.323331</td>\n",
       "      <td>5.798656</td>\n",
       "      <td>7.140666</td>\n",
       "      <td>{'relax': {'final_structure': [[ 3.42616363 -1...</td>\n",
       "    </tr>\n",
       "    <tr>\n",
       "      <th>19</th>\n",
       "      <td>mp-1187368</td>\n",
       "      <td>Tb2 Mn6</td>\n",
       "      <td>8</td>\n",
       "      <td>6.161203</td>\n",
       "      <td>0.243246</td>\n",
       "      <td>7.207834</td>\n",
       "      <td>4.419589</td>\n",
       "      <td>{'relax': {'final_structure': [[3.13320949 1.8...</td>\n",
       "    </tr>\n",
       "    <tr>\n",
       "      <th>20</th>\n",
       "      <td>mp-1184679</td>\n",
       "      <td>Hg1 Bi3</td>\n",
       "      <td>4</td>\n",
       "      <td>0.578509</td>\n",
       "      <td>0.138350</td>\n",
       "      <td>0.198766</td>\n",
       "      <td>0.408946</td>\n",
       "      <td>{'relax': {'final_structure': [[ 7.96830248e-0...</td>\n",
       "    </tr>\n",
       "  </tbody>\n",
       "</table>\n",
       "</div>"
      ],
      "text/plain": [
       "           mid composition  nsites  time_relax  time_elastic   time_eos  \\\n",
       "0   mp-1106268    Pr14 Pd6      20   77.461257      0.359916  16.656966   \n",
       "1    mp-974315      Ru2 I2       4    1.087971      0.167771   4.164044   \n",
       "2   mp-1206714     Al2 Sn1       3    0.498031      0.127761   0.219811   \n",
       "3     mp-30339     Er1 Ag2       3    0.576903      0.139824   2.491745   \n",
       "4       mp-696     Si4 Pt4       8   13.694501      0.380450  19.542468   \n",
       "5    mp-866222     Ac2 Si6       8   18.189615      0.213272   4.789273   \n",
       "6     mp-11422     Gd1 Hg1       2    0.335899      0.118745   0.184783   \n",
       "7     mp-21238     Th4 Si4       8    5.666338      0.250640   8.395984   \n",
       "8   mp-1215363     Zr4 Pd1       5    1.580980      0.197285   7.044133   \n",
       "9   mp-1212658      Ga1 C6       7    2.389647      0.219955   3.677611   \n",
       "10  mp-1101922     Eu4 Fe8      12   10.377299      0.384886  24.572080   \n",
       "11  mp-1183610     Ca2 Sm6       8    1.682067      0.210785   3.253925   \n",
       "12  mp-1187980     Yb6 Pb2       8    2.901845      0.219499   3.201017   \n",
       "13  mp-1187953     Yb3 Pb1       4    0.610179      0.128327   0.214635   \n",
       "14  mp-1185577     Cs2 Hg6       8    1.301506      0.186644   2.512045   \n",
       "15   mp-570436     Ca2 Ir4       6    0.403907      0.254918   0.399306   \n",
       "16  mp-1184183     Cu1 Ge3       4    0.860642      0.157552   0.310726   \n",
       "17  mp-1025440     Cu2 Ge6       8   13.462522      0.249049   6.250926   \n",
       "18  mp-1184147     Cu2 Ge6       8    4.294167      0.323331   5.798656   \n",
       "19  mp-1187368     Tb2 Mn6       8    6.161203      0.243246   7.207834   \n",
       "20  mp-1184679     Hg1 Bi3       4    0.578509      0.138350   0.198766   \n",
       "\n",
       "    time_phonon                                         properties  \n",
       "0     20.689870  {'relax': {'final_structure': [[-5.19302203  2...  \n",
       "1      0.701781  {'relax': {'final_structure': [[ 1.83881118 -1...  \n",
       "2      0.234030  {'relax': {'final_structure': [[1.59917846 1.5...  \n",
       "3      0.424448  {'relax': {'final_structure': [[4.48158802e-07...  \n",
       "4      6.921326  {'relax': {'final_structure': [[0.88064361 3.9...  \n",
       "5      2.100197  {'relax': {'final_structure': [[-2.05389424e-0...  \n",
       "6      0.167658  {'relax': {'final_structure': [[5.55001412e-20...  \n",
       "7      0.903534  {'relax': {'final_structure': [[1.08998567 0.7...  \n",
       "8      1.127406  {'relax': {'final_structure': [[ 3.93732368e-0...  \n",
       "9      1.335741  {'relax': {'final_structure': [[-9.88259495e-0...  \n",
       "10     7.050883  {'relax': {'final_structure': [[-1.87765303e-0...  \n",
       "11     0.332110  {'relax': {'final_structure': [[3.63712318 2.0...  \n",
       "12     0.826837  {'relax': {'final_structure': [[1.99653039 1.1...  \n",
       "13     0.179447  {'relax': {'final_structure': [[-1.32354508e-0...  \n",
       "14     1.470826  {'relax': {'final_structure': [[1.82452846e-05...  \n",
       "15     0.338884  {'relax': {'final_structure': [[2.33200465 1.6...  \n",
       "16     0.537036  {'relax': {'final_structure': [[-1.54866517e-0...  \n",
       "17     6.068298  {'relax': {'final_structure': [[2.16285319 1.2...  \n",
       "18     7.140666  {'relax': {'final_structure': [[ 3.42616363 -1...  \n",
       "19     4.419589  {'relax': {'final_structure': [[3.13320949 1.8...  \n",
       "20     0.408946  {'relax': {'final_structure': [[ 7.96830248e-0...  "
      ]
     },
     "execution_count": 8,
     "metadata": {},
     "output_type": "execute_result"
    }
   ],
   "source": [
    "df"
   ]
  },
  {
   "cell_type": "code",
   "execution_count": 9,
   "id": "4611ebd4",
   "metadata": {},
   "outputs": [
    {
     "data": {
      "text/plain": [
       "<Axes: xlabel='nsites', ylabel='time_relax'>"
      ]
     },
     "execution_count": 9,
     "metadata": {},
     "output_type": "execute_result"
    },
    {
     "data": {
      "image/png": "[encoded data removed]",
      "text/plain": [
       "<Figure size 432x288 with 1 Axes>"
      ]
     },
     "metadata": {
      "needs_background": "light"
     },
     "output_type": "display_data"
    },
    {
     "data": {
      "image/png": "[encoded data removed]",
      "text/plain": [
       "<Figure size 432x288 with 1 Axes>"
      ]
     },
     "metadata": {
      "needs_background": "light"
     },
     "output_type": "display_data"
    }
   ],
   "source": [
    "df.plot(x=\"nsites\", y=\"time_phonon\", kind=\"scatter\")\n",
    "df.plot(x=\"nsites\", y=\"time_relax\", kind=\"scatter\")"
   ]
  },
  {
   "cell_type": "code",
   "execution_count": null,
   "id": "552dda87",
   "metadata": {},
   "outputs": [],
   "source": []
  }
 ],
 "metadata": {
  "kernelspec": {
   "display_name": "Python 3 (ipykernel)",
   "language": "python",
   "name": "python3"
  },
  "language_info": {
   "codemirror_mode": {
    "name": "ipython",
    "version": 3
   },
   "file_extension": ".py",
   "mimetype": "text/x-python",
   "name": "python",
   "nbconvert_exporter": "python",
   "pygments_lexer": "ipython3",
   "version": "3.9.17"
  }
 },
 "nbformat": 4,
 "nbformat_minor": 5
}
