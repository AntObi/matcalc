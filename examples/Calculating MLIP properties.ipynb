{
 "cells": [
  {
   "cell_type": "code",
   "execution_count": 1,
   "id": "1d2ffcb9",
   "metadata": {},
   "outputs": [],
   "source": [
    "from matcalc.relaxation import RelaxCalc\n",
    "from matcalc.phonon import PhononCalc\n",
    "from matcalc.eos import EOSCalc\n",
    "from matcalc.elasticity import ElasticityCalc\n",
    "from matcalc.util import get_universal_calculator\n",
    "from datetime import datetime\n",
    "\n",
    "from pymatgen.ext.matproj import MPRester"
   ]
  },
  {
   "cell_type": "code",
   "execution_count": 2,
   "id": "627237cd",
   "metadata": {},
   "outputs": [
    {
     "name": "stderr",
     "output_type": "stream",
     "text": [
      "/Users/shyue/miniconda3/envs/mavrl/lib/python3.9/site-packages/mp_api/client/mprester.py:182: UserWarning: mpcontribs-client not installed. Install the package to query MPContribs data, or construct pourbaix diagrams: 'pip install mpcontribs-client'\n",
      "  warnings.warn(\n"
     ]
    }
   ],
   "source": [
    "mpr = MPRester()"
   ]
  },
  {
   "cell_type": "code",
   "execution_count": 3,
   "id": "25e6c905",
   "metadata": {},
   "outputs": [
    {
     "data": {
      "application/vnd.jupyter.widget-view+json": {
       "model_id": "6c95af052df24927a12c1a3a7f9714c2",
       "version_major": 2,
       "version_minor": 0
      },
      "text/plain": [
       "Retrieving MaterialsDoc documents:   0%|          | 0/20627 [00:00<?, ?it/s]"
      ]
     },
     "metadata": {},
     "output_type": "display_data"
    }
   ],
   "source": [
    "mpdata = mpr.materials._search(nelements=2, fields=[\"material_id\", \"structure\"])"
   ]
  },
  {
   "cell_type": "code",
   "execution_count": 4,
   "id": "cb64eb7b",
   "metadata": {},
   "outputs": [
    {
     "name": "stderr",
     "output_type": "stream",
     "text": [
      "/Users/shyue/repos/matgl/matgl/utils/io.py:125: UserWarning: Incompatible model version detected! The code will continue to load the model but it is recommended that you provide a path to an updated model, increment your @model_version in model.json if you are confident that the changes are not problematic, or clear your ~/.matgl cache using `python -c \"import matgl; matgl.clear_cache()\"`\n",
      "  _check_ver(cls_, v)  # Check version of any subclasses too.\n"
     ]
    }
   ],
   "source": [
    "up = get_universal_calculator(\"M3GNet\")"
   ]
  },
  {
   "cell_type": "code",
   "execution_count": 5,
   "id": "dc1cb5b7",
   "metadata": {},
   "outputs": [],
   "source": [
    "fmax = 0.01\n",
    "prop_calcs = [\n",
    "    (\"relax\", RelaxCalc(up, fmax=fmax)),\n",
    "    (\"elastic\", ElasticityCalc(up, fmax=fmax, relax_structure=False)),\n",
    "    (\"eos\", EOSCalc(up, fmax=fmax, relax_structure=False)),\n",
    "    # Note that Phonon usually requires a more stringent fmax criterion and a re-relaxation.\n",
    "    (\"phonon\", PhononCalc(up, relax_structure=False, fmax=fmax)),\n",
    "]"
   ]
  },
  {
   "cell_type": "code",
   "execution_count": 6,
   "id": "6073bac0",
   "metadata": {},
   "outputs": [
    {
     "name": "stderr",
     "output_type": "stream",
     "text": [
      "/Users/shyue/miniconda3/envs/mavrl/lib/python3.9/site-packages/torch/functional.py:504: UserWarning: torch.meshgrid: in an upcoming release, it will be required to pass the indexing argument. (Triggered internally at /Users/runner/work/pytorch/pytorch/pytorch/aten/src/ATen/native/TensorShape.cpp:3484.)\n",
      "  return _VF.meshgrid(tensors, **kwargs)  # type: ignore[attr-defined]\n"
     ]
    }
   ],
   "source": [
    "data = []\n",
    "\n",
    "for i, d in enumerate(mpdata):\n",
    "    s = d.structure\n",
    "    dd = {\"mid\": d.material_id, \"composition\": s.composition.formula, \"nsites\": len(s)}\n",
    "    properties = {}\n",
    "    for name, c in prop_calcs:\n",
    "        starttime = datetime.now()\n",
    "        properties[name] = c.calc(s)\n",
    "        endtime = datetime.now()\n",
    "        if name == \"relax\":\n",
    "            # Replace the structure with the one from relaxation for other property computations.\n",
    "            s = properties[name][\"final_structure\"]\n",
    "        dd[f\"time_{name}\"] = (endtime - starttime).total_seconds()\n",
    "    dd[\"properties\"] = properties\n",
    "    data.append(dd)\n",
    "    if i == 20:\n",
    "        # Here we just do a sampling of 10 structures.\n",
    "        break"
   ]
  },
  {
   "cell_type": "code",
   "execution_count": 7,
   "id": "c8137638",
   "metadata": {},
   "outputs": [],
   "source": [
    "import pandas as pd\n",
    "\n",
    "df = pd.DataFrame(data)"
   ]
  },
  {
   "cell_type": "code",
   "execution_count": 8,
   "id": "551ff93b",
   "metadata": {},
   "outputs": [
    {
     "data": {
      "text/html": [
       "<div>\n",
       "<style scoped>\n",
       "    .dataframe tbody tr th:only-of-type {\n",
       "        vertical-align: middle;\n",
       "    }\n",
       "\n",
       "    .dataframe tbody tr th {\n",
       "        vertical-align: top;\n",
       "    }\n",
       "\n",
       "    .dataframe thead th {\n",
       "        text-align: right;\n",
       "    }\n",
       "</style>\n",
       "<table border=\"1\" class=\"dataframe\">\n",
       "  <thead>\n",
       "    <tr style=\"text-align: right;\">\n",
       "      <th></th>\n",
       "      <th>mid</th>\n",
       "      <th>composition</th>\n",
       "      <th>nsites</th>\n",
       "      <th>time_relax</th>\n",
       "      <th>time_elastic</th>\n",
       "      <th>time_eos</th>\n",
       "      <th>time_phonon</th>\n",
       "      <th>properties</th>\n",
       "    </tr>\n",
       "  </thead>\n",
       "  <tbody>\n",
       "    <tr>\n",
       "      <th>0</th>\n",
       "      <td>mp-1106268</td>\n",
       "      <td>Pr14 Pd6</td>\n",
       "      <td>20</td>\n",
       "      <td>58.119476</td>\n",
       "      <td>0.468748</td>\n",
       "      <td>34.820909</td>\n",
       "      <td>37.483147</td>\n",
       "      <td>{'relax': {'final_structure': [[-5.19302358  2...</td>\n",
       "    </tr>\n",
       "    <tr>\n",
       "      <th>1</th>\n",
       "      <td>mp-974315</td>\n",
       "      <td>Ru2 I2</td>\n",
       "      <td>4</td>\n",
       "      <td>1.591998</td>\n",
       "      <td>0.220885</td>\n",
       "      <td>5.027307</td>\n",
       "      <td>0.949927</td>\n",
       "      <td>{'relax': {'final_structure': [[ 1.83881118 -1...</td>\n",
       "    </tr>\n",
       "    <tr>\n",
       "      <th>2</th>\n",
       "      <td>mp-1206714</td>\n",
       "      <td>Al2 Sn1</td>\n",
       "      <td>3</td>\n",
       "      <td>0.632854</td>\n",
       "      <td>0.162397</td>\n",
       "      <td>0.233952</td>\n",
       "      <td>0.306922</td>\n",
       "      <td>{'relax': {'final_structure': [[1.59917846 1.5...</td>\n",
       "    </tr>\n",
       "    <tr>\n",
       "      <th>3</th>\n",
       "      <td>mp-30339</td>\n",
       "      <td>Er1 Ag2</td>\n",
       "      <td>3</td>\n",
       "      <td>0.839322</td>\n",
       "      <td>0.222317</td>\n",
       "      <td>2.854628</td>\n",
       "      <td>0.477655</td>\n",
       "      <td>{'relax': {'final_structure': [[4.48158802e-07...</td>\n",
       "    </tr>\n",
       "    <tr>\n",
       "      <th>4</th>\n",
       "      <td>mp-696</td>\n",
       "      <td>Si4 Pt4</td>\n",
       "      <td>8</td>\n",
       "      <td>18.880611</td>\n",
       "      <td>0.447233</td>\n",
       "      <td>23.835656</td>\n",
       "      <td>12.458753</td>\n",
       "      <td>{'relax': {'final_structure': [[0.88064056 3.9...</td>\n",
       "    </tr>\n",
       "    <tr>\n",
       "      <th>5</th>\n",
       "      <td>mp-866222</td>\n",
       "      <td>Ac2 Si6</td>\n",
       "      <td>8</td>\n",
       "      <td>25.846757</td>\n",
       "      <td>0.291701</td>\n",
       "      <td>5.176952</td>\n",
       "      <td>2.896033</td>\n",
       "      <td>{'relax': {'final_structure': [[-2.05389424e-0...</td>\n",
       "    </tr>\n",
       "    <tr>\n",
       "      <th>6</th>\n",
       "      <td>mp-11422</td>\n",
       "      <td>Gd1 Hg1</td>\n",
       "      <td>2</td>\n",
       "      <td>0.350465</td>\n",
       "      <td>0.176970</td>\n",
       "      <td>0.245187</td>\n",
       "      <td>0.212125</td>\n",
       "      <td>{'relax': {'final_structure': [[5.55001412e-20...</td>\n",
       "    </tr>\n",
       "    <tr>\n",
       "      <th>7</th>\n",
       "      <td>mp-21238</td>\n",
       "      <td>Th4 Si4</td>\n",
       "      <td>8</td>\n",
       "      <td>6.012806</td>\n",
       "      <td>0.289803</td>\n",
       "      <td>11.106935</td>\n",
       "      <td>1.774519</td>\n",
       "      <td>{'relax': {'final_structure': [[1.08998567 0.7...</td>\n",
       "    </tr>\n",
       "    <tr>\n",
       "      <th>8</th>\n",
       "      <td>mp-1215363</td>\n",
       "      <td>Zr4 Pd1</td>\n",
       "      <td>5</td>\n",
       "      <td>3.149180</td>\n",
       "      <td>0.182439</td>\n",
       "      <td>12.736966</td>\n",
       "      <td>1.809394</td>\n",
       "      <td>{'relax': {'final_structure': [[ 3.93732368e-0...</td>\n",
       "    </tr>\n",
       "    <tr>\n",
       "      <th>9</th>\n",
       "      <td>mp-1212658</td>\n",
       "      <td>Ga1 C6</td>\n",
       "      <td>7</td>\n",
       "      <td>6.466323</td>\n",
       "      <td>0.563564</td>\n",
       "      <td>6.885472</td>\n",
       "      <td>2.687283</td>\n",
       "      <td>{'relax': {'final_structure': [[-9.88259495e-0...</td>\n",
       "    </tr>\n",
       "    <tr>\n",
       "      <th>10</th>\n",
       "      <td>mp-1101922</td>\n",
       "      <td>Eu4 Fe8</td>\n",
       "      <td>12</td>\n",
       "      <td>11.300682</td>\n",
       "      <td>0.652700</td>\n",
       "      <td>21.933298</td>\n",
       "      <td>6.567985</td>\n",
       "      <td>{'relax': {'final_structure': [[-1.70569804e-0...</td>\n",
       "    </tr>\n",
       "    <tr>\n",
       "      <th>11</th>\n",
       "      <td>mp-1183610</td>\n",
       "      <td>Ca2 Sm6</td>\n",
       "      <td>8</td>\n",
       "      <td>1.491658</td>\n",
       "      <td>0.263879</td>\n",
       "      <td>3.501549</td>\n",
       "      <td>0.374422</td>\n",
       "      <td>{'relax': {'final_structure': [[3.63712318 2.0...</td>\n",
       "    </tr>\n",
       "    <tr>\n",
       "      <th>12</th>\n",
       "      <td>mp-1187980</td>\n",
       "      <td>Yb6 Pb2</td>\n",
       "      <td>8</td>\n",
       "      <td>3.257738</td>\n",
       "      <td>0.266460</td>\n",
       "      <td>3.386276</td>\n",
       "      <td>0.932557</td>\n",
       "      <td>{'relax': {'final_structure': [[1.99653039 1.1...</td>\n",
       "    </tr>\n",
       "    <tr>\n",
       "      <th>13</th>\n",
       "      <td>mp-1187953</td>\n",
       "      <td>Yb3 Pb1</td>\n",
       "      <td>4</td>\n",
       "      <td>0.695949</td>\n",
       "      <td>0.156550</td>\n",
       "      <td>0.243285</td>\n",
       "      <td>0.206511</td>\n",
       "      <td>{'relax': {'final_structure': [[-1.32354508e-0...</td>\n",
       "    </tr>\n",
       "    <tr>\n",
       "      <th>14</th>\n",
       "      <td>mp-1185577</td>\n",
       "      <td>Cs2 Hg6</td>\n",
       "      <td>8</td>\n",
       "      <td>1.645047</td>\n",
       "      <td>0.255576</td>\n",
       "      <td>2.821439</td>\n",
       "      <td>1.544533</td>\n",
       "      <td>{'relax': {'final_structure': [[1.82452846e-05...</td>\n",
       "    </tr>\n",
       "    <tr>\n",
       "      <th>15</th>\n",
       "      <td>mp-570436</td>\n",
       "      <td>Ca2 Ir4</td>\n",
       "      <td>6</td>\n",
       "      <td>0.392467</td>\n",
       "      <td>0.302817</td>\n",
       "      <td>0.472691</td>\n",
       "      <td>0.387873</td>\n",
       "      <td>{'relax': {'final_structure': [[2.33200465 1.6...</td>\n",
       "    </tr>\n",
       "    <tr>\n",
       "      <th>16</th>\n",
       "      <td>mp-1184183</td>\n",
       "      <td>Cu1 Ge3</td>\n",
       "      <td>4</td>\n",
       "      <td>0.960875</td>\n",
       "      <td>0.164222</td>\n",
       "      <td>0.330354</td>\n",
       "      <td>0.552319</td>\n",
       "      <td>{'relax': {'final_structure': [[-1.54866517e-0...</td>\n",
       "    </tr>\n",
       "    <tr>\n",
       "      <th>17</th>\n",
       "      <td>mp-1025440</td>\n",
       "      <td>Cu2 Ge6</td>\n",
       "      <td>8</td>\n",
       "      <td>13.907899</td>\n",
       "      <td>0.298725</td>\n",
       "      <td>5.844268</td>\n",
       "      <td>5.747664</td>\n",
       "      <td>{'relax': {'final_structure': [[2.16285319 1.2...</td>\n",
       "    </tr>\n",
       "    <tr>\n",
       "      <th>18</th>\n",
       "      <td>mp-1184147</td>\n",
       "      <td>Cu2 Ge6</td>\n",
       "      <td>8</td>\n",
       "      <td>7.088322</td>\n",
       "      <td>0.260014</td>\n",
       "      <td>5.837314</td>\n",
       "      <td>3.623648</td>\n",
       "      <td>{'relax': {'final_structure': [[ 3.42616361 -1...</td>\n",
       "    </tr>\n",
       "    <tr>\n",
       "      <th>19</th>\n",
       "      <td>mp-1187368</td>\n",
       "      <td>Tb2 Mn6</td>\n",
       "      <td>8</td>\n",
       "      <td>6.649693</td>\n",
       "      <td>0.358418</td>\n",
       "      <td>7.001161</td>\n",
       "      <td>4.236130</td>\n",
       "      <td>{'relax': {'final_structure': [[3.1332095  1.8...</td>\n",
       "    </tr>\n",
       "    <tr>\n",
       "      <th>20</th>\n",
       "      <td>mp-1184679</td>\n",
       "      <td>Hg1 Bi3</td>\n",
       "      <td>4</td>\n",
       "      <td>0.552259</td>\n",
       "      <td>0.125718</td>\n",
       "      <td>0.204338</td>\n",
       "      <td>0.429551</td>\n",
       "      <td>{'relax': {'final_structure': [[ 7.96830248e-0...</td>\n",
       "    </tr>\n",
       "  </tbody>\n",
       "</table>\n",
       "</div>"
      ],
      "text/plain": [
       "           mid composition  nsites  time_relax  time_elastic   time_eos  \\\n",
       "0   mp-1106268    Pr14 Pd6      20   58.119476      0.468748  34.820909   \n",
       "1    mp-974315      Ru2 I2       4    1.591998      0.220885   5.027307   \n",
       "2   mp-1206714     Al2 Sn1       3    0.632854      0.162397   0.233952   \n",
       "3     mp-30339     Er1 Ag2       3    0.839322      0.222317   2.854628   \n",
       "4       mp-696     Si4 Pt4       8   18.880611      0.447233  23.835656   \n",
       "5    mp-866222     Ac2 Si6       8   25.846757      0.291701   5.176952   \n",
       "6     mp-11422     Gd1 Hg1       2    0.350465      0.176970   0.245187   \n",
       "7     mp-21238     Th4 Si4       8    6.012806      0.289803  11.106935   \n",
       "8   mp-1215363     Zr4 Pd1       5    3.149180      0.182439  12.736966   \n",
       "9   mp-1212658      Ga1 C6       7    6.466323      0.563564   6.885472   \n",
       "10  mp-1101922     Eu4 Fe8      12   11.300682      0.652700  21.933298   \n",
       "11  mp-1183610     Ca2 Sm6       8    1.491658      0.263879   3.501549   \n",
       "12  mp-1187980     Yb6 Pb2       8    3.257738      0.266460   3.386276   \n",
       "13  mp-1187953     Yb3 Pb1       4    0.695949      0.156550   0.243285   \n",
       "14  mp-1185577     Cs2 Hg6       8    1.645047      0.255576   2.821439   \n",
       "15   mp-570436     Ca2 Ir4       6    0.392467      0.302817   0.472691   \n",
       "16  mp-1184183     Cu1 Ge3       4    0.960875      0.164222   0.330354   \n",
       "17  mp-1025440     Cu2 Ge6       8   13.907899      0.298725   5.844268   \n",
       "18  mp-1184147     Cu2 Ge6       8    7.088322      0.260014   5.837314   \n",
       "19  mp-1187368     Tb2 Mn6       8    6.649693      0.358418   7.001161   \n",
       "20  mp-1184679     Hg1 Bi3       4    0.552259      0.125718   0.204338   \n",
       "\n",
       "    time_phonon                                         properties  \n",
       "0     37.483147  {'relax': {'final_structure': [[-5.19302358  2...  \n",
       "1      0.949927  {'relax': {'final_structure': [[ 1.83881118 -1...  \n",
       "2      0.306922  {'relax': {'final_structure': [[1.59917846 1.5...  \n",
       "3      0.477655  {'relax': {'final_structure': [[4.48158802e-07...  \n",
       "4     12.458753  {'relax': {'final_structure': [[0.88064056 3.9...  \n",
       "5      2.896033  {'relax': {'final_structure': [[-2.05389424e-0...  \n",
       "6      0.212125  {'relax': {'final_structure': [[5.55001412e-20...  \n",
       "7      1.774519  {'relax': {'final_structure': [[1.08998567 0.7...  \n",
       "8      1.809394  {'relax': {'final_structure': [[ 3.93732368e-0...  \n",
       "9      2.687283  {'relax': {'final_structure': [[-9.88259495e-0...  \n",
       "10     6.567985  {'relax': {'final_structure': [[-1.70569804e-0...  \n",
       "11     0.374422  {'relax': {'final_structure': [[3.63712318 2.0...  \n",
       "12     0.932557  {'relax': {'final_structure': [[1.99653039 1.1...  \n",
       "13     0.206511  {'relax': {'final_structure': [[-1.32354508e-0...  \n",
       "14     1.544533  {'relax': {'final_structure': [[1.82452846e-05...  \n",
       "15     0.387873  {'relax': {'final_structure': [[2.33200465 1.6...  \n",
       "16     0.552319  {'relax': {'final_structure': [[-1.54866517e-0...  \n",
       "17     5.747664  {'relax': {'final_structure': [[2.16285319 1.2...  \n",
       "18     3.623648  {'relax': {'final_structure': [[ 3.42616361 -1...  \n",
       "19     4.236130  {'relax': {'final_structure': [[3.1332095  1.8...  \n",
       "20     0.429551  {'relax': {'final_structure': [[ 7.96830248e-0...  "
      ]
     },
     "execution_count": 8,
     "metadata": {},
     "output_type": "execute_result"
    }
   ],
   "source": [
    "df"
   ]
  },
  {
   "cell_type": "code",
   "execution_count": 9,
   "id": "4611ebd4",
   "metadata": {},
   "outputs": [
    {
     "data": {
      "text/plain": [
       "<Axes: xlabel='nsites', ylabel='time_relax'>"
      ]
     },
     "execution_count": 9,
     "metadata": {},
     "output_type": "execute_result"
    },
    {
     "data": {
      "image/png": "[encoded data removed]",
      "text/plain": [
       "<Figure size 432x288 with 1 Axes>"
      ]
     },
     "metadata": {
      "needs_background": "light"
     },
     "output_type": "display_data"
    },
    {
     "data": {
      "image/png": "[encoded data removed]",
      "text/plain": [
       "<Figure size 432x288 with 1 Axes>"
      ]
     },
     "metadata": {
      "needs_background": "light"
     },
     "output_type": "display_data"
    }
   ],
   "source": [
    "df.plot(x=\"nsites\", y=\"time_phonon\", kind=\"scatter\")\n",
    "df.plot(x=\"nsites\", y=\"time_relax\", kind=\"scatter\")"
   ]
  },
  {
   "cell_type": "code",
   "execution_count": null,
   "id": "acb20c91",
   "metadata": {},
   "outputs": [],
   "source": []
  }
 ],
 "metadata": {
  "kernelspec": {
   "display_name": "Python 3 (ipykernel)",
   "language": "python",
   "name": "python3"
  },
  "language_info": {
   "codemirror_mode": {
    "name": "ipython",
    "version": 3
   },
   "file_extension": ".py",
   "mimetype": "text/x-python",
   "name": "python",
   "nbconvert_exporter": "python",
   "pygments_lexer": "ipython3",
   "version": "3.9.17"
  }
 },
 "nbformat": 4,
 "nbformat_minor": 5
}
