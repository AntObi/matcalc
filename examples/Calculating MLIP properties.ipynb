{
 "cells": [
  {
   "cell_type": "code",
   "execution_count": 6,
   "id": "204b4d30",
   "metadata": {},
   "outputs": [],
   "source": [
    "from matcalc.relaxation import RelaxCalc\n",
    "from matcalc.phonon import PhononCalc\n",
    "from matcalc.eos import EOSCalc\n",
    "from matcalc.elasticity import ElasticityCalc\n",
    "from matcalc.util import get_universal_calculator\n",
    "from datetime import datetime\n",
    "\n",
    "from pymatgen.ext.matproj import MPRester"
   ]
  },
  {
   "cell_type": "code",
   "execution_count": 7,
   "id": "a189751b",
   "metadata": {},
   "outputs": [],
   "source": [
    "mpr = MPRester()"
   ]
  },
  {
   "cell_type": "code",
   "execution_count": 3,
   "id": "089b0452",
   "metadata": {},
   "outputs": [
    {
     "data": {
      "application/vnd.jupyter.widget-view+json": {
       "model_id": "0110415b6d4f4bb79993fe4a0d756e23",
       "version_major": 2,
       "version_minor": 0
      },
      "text/plain": [
       "Retrieving MaterialsDoc documents:   0%|          | 0/20627 [00:00<?, ?it/s]"
      ]
     },
     "metadata": {},
     "output_type": "display_data"
    }
   ],
   "source": [
    "mpdata = mpr.materials._search(nelements=2, fields=[\"material_id\", \"structure\"])"
   ]
  },
  {
   "cell_type": "code",
   "execution_count": 4,
   "id": "49bc558d",
   "metadata": {},
   "outputs": [
    {
     "name": "stderr",
     "output_type": "stream",
     "text": [
      "/Users/shyue/repos/matgl/matgl/utils/io.py:125: UserWarning: Incompatible model version detected! The code will continue to load the model but it is recommended that you provide a path to an updated model, increment your @model_version in model.json if you are confident that the changes are not problematic, or clear your ~/.matgl cache using `python -c \"import matgl; matgl.clear_cache()\"`\n",
      "  _check_ver(cls_, v)  # Check version of any subclasses too.\n"
     ]
    }
   ],
   "source": [
    "calc = get_universal_calculator(\"M3GNet\")"
   ]
  },
  {
   "cell_type": "code",
   "execution_count": 22,
   "id": "5352860b",
   "metadata": {},
   "outputs": [],
   "source": [
    "calculators = [\n",
    "    (\"relax\", RelaxCalc(calc)), \n",
    "    (\"elastic\", ElasticityCalc(calc, relax_structure=False)), \n",
    "    (\"eos\", EOSCalc(calc, relax_structure=False)),\n",
    "    # Note that Phonon usually requires a more stringent fmax criterion and a re-relaxation.\n",
    "    (\"phonon\", PhononCalc(calc, relax_structure=True, fmax=0.01)), \n",
    "]"
   ]
  },
  {
   "cell_type": "code",
   "execution_count": 23,
   "id": "b4389988",
   "metadata": {},
   "outputs": [],
   "source": [
    "data = []\n",
    "\n",
    "for i, d in enumerate(mpdata):\n",
    "    s = d.structure\n",
    "    dd = {\"mid\": d.material_id, \"composition\": s.composition.formula, \"nsites\": len(s)}\n",
    "    properties = {}\n",
    "    for name, c in calculators:\n",
    "        starttime = datetime.now()\n",
    "        properties[name] = c.calc(s)\n",
    "        endtime = datetime.now()\n",
    "        if name == \"relax\":\n",
    "            s = properties[name][\"final_structure\"]\n",
    "        dd[f\"time_{name}\"] = (endtime - starttime).total_seconds()\n",
    "    dd[\"properties\"] = properties\n",
    "    data.append(dd)\n",
    "    if i == 10:\n",
    "        # Here we just do a sampling of 10 structures.\n",
    "        break"
   ]
  },
  {
   "cell_type": "code",
   "execution_count": 24,
   "id": "d9771592",
   "metadata": {},
   "outputs": [],
   "source": [
    "import pandas as pd\n",
    "df = pd.DataFrame(data)"
   ]
  },
  {
   "cell_type": "code",
   "execution_count": 25,
   "id": "e07f2e64",
   "metadata": {},
   "outputs": [
    {
     "data": {
      "text/html": [
       "<div>\n",
       "<style scoped>\n",
       "    .dataframe tbody tr th:only-of-type {\n",
       "        vertical-align: middle;\n",
       "    }\n",
       "\n",
       "    .dataframe tbody tr th {\n",
       "        vertical-align: top;\n",
       "    }\n",
       "\n",
       "    .dataframe thead th {\n",
       "        text-align: right;\n",
       "    }\n",
       "</style>\n",
       "<table border=\"1\" class=\"dataframe\">\n",
       "  <thead>\n",
       "    <tr style=\"text-align: right;\">\n",
       "      <th></th>\n",
       "      <th>mid</th>\n",
       "      <th>composition</th>\n",
       "      <th>nsites</th>\n",
       "      <th>time_relax</th>\n",
       "      <th>time_elastic</th>\n",
       "      <th>time_eos</th>\n",
       "      <th>time_phonon</th>\n",
       "      <th>properties</th>\n",
       "    </tr>\n",
       "  </thead>\n",
       "  <tbody>\n",
       "    <tr>\n",
       "      <th>0</th>\n",
       "      <td>mp-1106268</td>\n",
       "      <td>Pr14 Pd6</td>\n",
       "      <td>20</td>\n",
       "      <td>5.672411</td>\n",
       "      <td>0.389471</td>\n",
       "      <td>7.312404</td>\n",
       "      <td>95.785392</td>\n",
       "      <td>{'relax': {'final_structure': [[-5.16210807  2...</td>\n",
       "    </tr>\n",
       "    <tr>\n",
       "      <th>1</th>\n",
       "      <td>mp-974315</td>\n",
       "      <td>Ru2 I2</td>\n",
       "      <td>4</td>\n",
       "      <td>1.199593</td>\n",
       "      <td>0.189831</td>\n",
       "      <td>2.191201</td>\n",
       "      <td>2.709812</td>\n",
       "      <td>{'relax': {'final_structure': [[ 1.84401577 -1...</td>\n",
       "    </tr>\n",
       "    <tr>\n",
       "      <th>2</th>\n",
       "      <td>mp-1206714</td>\n",
       "      <td>Al2 Sn1</td>\n",
       "      <td>3</td>\n",
       "      <td>0.391959</td>\n",
       "      <td>0.114858</td>\n",
       "      <td>0.248847</td>\n",
       "      <td>0.274779</td>\n",
       "      <td>{'relax': {'final_structure': [[1.59992902 1.5...</td>\n",
       "    </tr>\n",
       "    <tr>\n",
       "      <th>3</th>\n",
       "      <td>mp-30339</td>\n",
       "      <td>Er1 Ag2</td>\n",
       "      <td>3</td>\n",
       "      <td>0.146016</td>\n",
       "      <td>0.200051</td>\n",
       "      <td>0.965646</td>\n",
       "      <td>0.808627</td>\n",
       "      <td>{'relax': {'final_structure': [[1.76298403e-08...</td>\n",
       "    </tr>\n",
       "    <tr>\n",
       "      <th>4</th>\n",
       "      <td>mp-696</td>\n",
       "      <td>Si4 Pt4</td>\n",
       "      <td>8</td>\n",
       "      <td>1.373731</td>\n",
       "      <td>0.363963</td>\n",
       "      <td>9.206875</td>\n",
       "      <td>20.546138</td>\n",
       "      <td>{'relax': {'final_structure': [[0.90113485 3.8...</td>\n",
       "    </tr>\n",
       "    <tr>\n",
       "      <th>5</th>\n",
       "      <td>mp-866222</td>\n",
       "      <td>Ac2 Si6</td>\n",
       "      <td>8</td>\n",
       "      <td>3.997126</td>\n",
       "      <td>0.335380</td>\n",
       "      <td>2.234309</td>\n",
       "      <td>26.709645</td>\n",
       "      <td>{'relax': {'final_structure': [[6.28503045e-07...</td>\n",
       "    </tr>\n",
       "    <tr>\n",
       "      <th>6</th>\n",
       "      <td>mp-11422</td>\n",
       "      <td>Gd1 Hg1</td>\n",
       "      <td>2</td>\n",
       "      <td>0.120253</td>\n",
       "      <td>0.109312</td>\n",
       "      <td>0.191998</td>\n",
       "      <td>0.264240</td>\n",
       "      <td>{'relax': {'final_structure': [[-6.87059911e-2...</td>\n",
       "    </tr>\n",
       "    <tr>\n",
       "      <th>7</th>\n",
       "      <td>mp-21238</td>\n",
       "      <td>Th4 Si4</td>\n",
       "      <td>8</td>\n",
       "      <td>1.777484</td>\n",
       "      <td>0.223047</td>\n",
       "      <td>3.867465</td>\n",
       "      <td>3.099629</td>\n",
       "      <td>{'relax': {'final_structure': [[1.08682613 0.7...</td>\n",
       "    </tr>\n",
       "    <tr>\n",
       "      <th>8</th>\n",
       "      <td>mp-1215363</td>\n",
       "      <td>Zr4 Pd1</td>\n",
       "      <td>5</td>\n",
       "      <td>0.700314</td>\n",
       "      <td>0.189862</td>\n",
       "      <td>2.758254</td>\n",
       "      <td>1.954500</td>\n",
       "      <td>{'relax': {'final_structure': [[ 6.81788689e-0...</td>\n",
       "    </tr>\n",
       "    <tr>\n",
       "      <th>9</th>\n",
       "      <td>mp-1212658</td>\n",
       "      <td>Ga1 C6</td>\n",
       "      <td>7</td>\n",
       "      <td>1.530958</td>\n",
       "      <td>0.245652</td>\n",
       "      <td>2.319409</td>\n",
       "      <td>2.941724</td>\n",
       "      <td>{'relax': {'final_structure': [[-1.24073501e-0...</td>\n",
       "    </tr>\n",
       "    <tr>\n",
       "      <th>10</th>\n",
       "      <td>mp-1101922</td>\n",
       "      <td>Eu4 Fe8</td>\n",
       "      <td>12</td>\n",
       "      <td>1.715002</td>\n",
       "      <td>0.455393</td>\n",
       "      <td>3.577692</td>\n",
       "      <td>10.022344</td>\n",
       "      <td>{'relax': {'final_structure': [[-2.39653830e-0...</td>\n",
       "    </tr>\n",
       "  </tbody>\n",
       "</table>\n",
       "</div>"
      ],
      "text/plain": [
       "           mid composition  nsites  time_relax  time_elastic  time_eos  \\\n",
       "0   mp-1106268    Pr14 Pd6      20    5.672411      0.389471  7.312404   \n",
       "1    mp-974315      Ru2 I2       4    1.199593      0.189831  2.191201   \n",
       "2   mp-1206714     Al2 Sn1       3    0.391959      0.114858  0.248847   \n",
       "3     mp-30339     Er1 Ag2       3    0.146016      0.200051  0.965646   \n",
       "4       mp-696     Si4 Pt4       8    1.373731      0.363963  9.206875   \n",
       "5    mp-866222     Ac2 Si6       8    3.997126      0.335380  2.234309   \n",
       "6     mp-11422     Gd1 Hg1       2    0.120253      0.109312  0.191998   \n",
       "7     mp-21238     Th4 Si4       8    1.777484      0.223047  3.867465   \n",
       "8   mp-1215363     Zr4 Pd1       5    0.700314      0.189862  2.758254   \n",
       "9   mp-1212658      Ga1 C6       7    1.530958      0.245652  2.319409   \n",
       "10  mp-1101922     Eu4 Fe8      12    1.715002      0.455393  3.577692   \n",
       "\n",
       "    time_phonon                                         properties  \n",
       "0     95.785392  {'relax': {'final_structure': [[-5.16210807  2...  \n",
       "1      2.709812  {'relax': {'final_structure': [[ 1.84401577 -1...  \n",
       "2      0.274779  {'relax': {'final_structure': [[1.59992902 1.5...  \n",
       "3      0.808627  {'relax': {'final_structure': [[1.76298403e-08...  \n",
       "4     20.546138  {'relax': {'final_structure': [[0.90113485 3.8...  \n",
       "5     26.709645  {'relax': {'final_structure': [[6.28503045e-07...  \n",
       "6      0.264240  {'relax': {'final_structure': [[-6.87059911e-2...  \n",
       "7      3.099629  {'relax': {'final_structure': [[1.08682613 0.7...  \n",
       "8      1.954500  {'relax': {'final_structure': [[ 6.81788689e-0...  \n",
       "9      2.941724  {'relax': {'final_structure': [[-1.24073501e-0...  \n",
       "10    10.022344  {'relax': {'final_structure': [[-2.39653830e-0...  "
      ]
     },
     "execution_count": 25,
     "metadata": {},
     "output_type": "execute_result"
    }
   ],
   "source": [
    "df"
   ]
  },
  {
   "cell_type": "code",
   "execution_count": 30,
   "id": "1fafd18a",
   "metadata": {},
   "outputs": [
    {
     "data": {
      "text/plain": [
       "<Axes: xlabel='nsites', ylabel='time_relax'>"
      ]
     },
     "execution_count": 30,
     "metadata": {},
     "output_type": "execute_result"
    },
    {
     "data": {
      "image/png": "[encoded data removed]",
      "text/plain": [
       "<Figure size 432x288 with 1 Axes>"
      ]
     },
     "metadata": {
      "needs_background": "light"
     },
     "output_type": "display_data"
    },
    {
     "data": {
      "image/png": "[encoded data removed]",
      "text/plain": [
       "<Figure size 432x288 with 1 Axes>"
      ]
     },
     "metadata": {
      "needs_background": "light"
     },
     "output_type": "display_data"
    }
   ],
   "source": [
    "df.plot(x=\"nsites\", y=\"time_phonon\", kind=\"scatter\")\n",
    "df.plot(x=\"nsites\", y=\"time_relax\", kind=\"scatter\")"
   ]
  },
  {
   "cell_type": "code",
   "execution_count": null,
   "id": "d004e39a",
   "metadata": {},
   "outputs": [],
   "source": []
  }
 ],
 "metadata": {
  "kernelspec": {
   "display_name": "Python 3 (ipykernel)",
   "language": "python",
   "name": "python3"
  },
  "language_info": {
   "codemirror_mode": {
    "name": "ipython",
    "version": 3
   },
   "file_extension": ".py",
   "mimetype": "text/x-python",
   "name": "python",
   "nbconvert_exporter": "python",
   "pygments_lexer": "ipython3",
   "version": "3.9.17"
  }
 },
 "nbformat": 4,
 "nbformat_minor": 5
}
