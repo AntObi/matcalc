{
 "cells": [
  {
   "cell_type": "code",
   "execution_count": 1,
   "id": "1d2ffcb9",
   "metadata": {},
   "outputs": [],
   "source": [
    "from matcalc.relaxation import RelaxCalc\n",
    "from matcalc.phonon import PhononCalc\n",
    "from matcalc.eos import EOSCalc\n",
    "from matcalc.elasticity import ElasticityCalc\n",
    "from matcalc.util import get_universal_calculator\n",
    "from datetime import datetime\n",
    "\n",
    "from pymatgen.ext.matproj import MPRester"
   ]
  },
  {
   "cell_type": "code",
   "execution_count": 2,
   "id": "627237cd",
   "metadata": {},
   "outputs": [
    {
     "name": "stderr",
     "output_type": "stream",
     "text": [
      "/Users/shyue/miniconda3/envs/mavrl/lib/python3.9/site-packages/mp_api/client/mprester.py:182: UserWarning: mpcontribs-client not installed. Install the package to query MPContribs data, or construct pourbaix diagrams: 'pip install mpcontribs-client'\n",
      "  warnings.warn(\n"
     ]
    }
   ],
   "source": [
    "mpr = MPRester()"
   ]
  },
  {
   "cell_type": "code",
   "execution_count": 3,
   "id": "25e6c905",
   "metadata": {},
   "outputs": [
    {
     "data": {
      "application/vnd.jupyter.widget-view+json": {
       "model_id": "1ecfeb231bf64dccb1c4bae61a6782d0",
       "version_major": 2,
       "version_minor": 0
      },
      "text/plain": [
       "Retrieving MaterialsDoc documents:   0%|          | 0/20627 [00:00<?, ?it/s]"
      ]
     },
     "metadata": {},
     "output_type": "display_data"
    }
   ],
   "source": [
    "mpdata = mpr.materials._search(nelements=2, fields=[\"material_id\", \"structure\"])"
   ]
  },
  {
   "cell_type": "code",
   "execution_count": 4,
   "id": "cb64eb7b",
   "metadata": {},
   "outputs": [
    {
     "name": "stderr",
     "output_type": "stream",
     "text": [
      "/Users/shyue/repos/matgl/matgl/utils/io.py:125: UserWarning: Incompatible model version detected! The code will continue to load the model but it is recommended that you provide a path to an updated model, increment your @model_version in model.json if you are confident that the changes are not problematic, or clear your ~/.matgl cache using `python -c \"import matgl; matgl.clear_cache()\"`\n",
      "  _check_ver(cls_, v)  # Check version of any subclasses too.\n"
     ]
    }
   ],
   "source": [
    "calc = get_universal_calculator(\"M3GNet\")"
   ]
  },
  {
   "cell_type": "code",
   "execution_count": 5,
   "id": "dc1cb5b7",
   "metadata": {},
   "outputs": [],
   "source": [
    "fmax = 0.01\n",
    "calculators = [\n",
    "    (\"relax\", RelaxCalc(calc, fmax=fmax)), \n",
    "    (\"elastic\", ElasticityCalc(calc, fmax=fmax, relax_structure=False)), \n",
    "    (\"eos\", EOSCalc(calc, fmax=fmax, relax_structure=False)),\n",
    "    # Note that Phonon usually requires a more stringent fmax criterion and a re-relaxation.\n",
    "    (\"phonon\", PhononCalc(calc, relax_structure=False, fmax=fmax)), \n",
    "]"
   ]
  },
  {
   "cell_type": "code",
   "execution_count": 6,
   "id": "6073bac0",
   "metadata": {},
   "outputs": [
    {
     "name": "stderr",
     "output_type": "stream",
     "text": [
      "/Users/shyue/miniconda3/envs/mavrl/lib/python3.9/site-packages/torch/functional.py:504: UserWarning: torch.meshgrid: in an upcoming release, it will be required to pass the indexing argument. (Triggered internally at /Users/runner/work/pytorch/pytorch/pytorch/aten/src/ATen/native/TensorShape.cpp:3484.)\n",
      "  return _VF.meshgrid(tensors, **kwargs)  # type: ignore[attr-defined]\n"
     ]
    }
   ],
   "source": [
    "data = []\n",
    "\n",
    "for i, d in enumerate(mpdata):\n",
    "    s = d.structure\n",
    "    dd = {\"mid\": d.material_id, \"composition\": s.composition.formula, \"nsites\": len(s)}\n",
    "    properties = {}\n",
    "    for name, c in calculators:\n",
    "        starttime = datetime.now()\n",
    "        properties[name] = c.calc(s)\n",
    "        endtime = datetime.now()\n",
    "        if name == \"relax\":\n",
    "            s = properties[name][\"final_structure\"]\n",
    "        dd[f\"time_{name}\"] = (endtime - starttime).total_seconds()\n",
    "    dd[\"properties\"] = properties\n",
    "    data.append(dd)\n",
    "    if i == 20:\n",
    "        # Here we just do a sampling of 10 structures.\n",
    "        break"
   ]
  },
  {
   "cell_type": "code",
   "execution_count": 7,
   "id": "c8137638",
   "metadata": {},
   "outputs": [],
   "source": [
    "import pandas as pd\n",
    "df = pd.DataFrame(data)"
   ]
  },
  {
   "cell_type": "code",
   "execution_count": 8,
   "id": "551ff93b",
   "metadata": {},
   "outputs": [
    {
     "data": {
      "text/html": [
       "<div>\n",
       "<style scoped>\n",
       "    .dataframe tbody tr th:only-of-type {\n",
       "        vertical-align: middle;\n",
       "    }\n",
       "\n",
       "    .dataframe tbody tr th {\n",
       "        vertical-align: top;\n",
       "    }\n",
       "\n",
       "    .dataframe thead th {\n",
       "        text-align: right;\n",
       "    }\n",
       "</style>\n",
       "<table border=\"1\" class=\"dataframe\">\n",
       "  <thead>\n",
       "    <tr style=\"text-align: right;\">\n",
       "      <th></th>\n",
       "      <th>mid</th>\n",
       "      <th>composition</th>\n",
       "      <th>nsites</th>\n",
       "      <th>time_relax</th>\n",
       "      <th>time_elastic</th>\n",
       "      <th>time_eos</th>\n",
       "      <th>time_phonon</th>\n",
       "      <th>properties</th>\n",
       "    </tr>\n",
       "  </thead>\n",
       "  <tbody>\n",
       "    <tr>\n",
       "      <th>0</th>\n",
       "      <td>mp-1106268</td>\n",
       "      <td>Pr14 Pd6</td>\n",
       "      <td>20</td>\n",
       "      <td>82.252866</td>\n",
       "      <td>0.418490</td>\n",
       "      <td>16.531636</td>\n",
       "      <td>21.289642</td>\n",
       "      <td>{'relax': {'final_structure': [[-5.19299035  2...</td>\n",
       "    </tr>\n",
       "    <tr>\n",
       "      <th>1</th>\n",
       "      <td>mp-974315</td>\n",
       "      <td>Ru2 I2</td>\n",
       "      <td>4</td>\n",
       "      <td>1.354971</td>\n",
       "      <td>0.199866</td>\n",
       "      <td>4.355355</td>\n",
       "      <td>0.815008</td>\n",
       "      <td>{'relax': {'final_structure': [[ 1.83881118 -1...</td>\n",
       "    </tr>\n",
       "    <tr>\n",
       "      <th>2</th>\n",
       "      <td>mp-1206714</td>\n",
       "      <td>Al2 Sn1</td>\n",
       "      <td>3</td>\n",
       "      <td>0.446675</td>\n",
       "      <td>0.124788</td>\n",
       "      <td>0.239677</td>\n",
       "      <td>0.247754</td>\n",
       "      <td>{'relax': {'final_structure': [[1.59917846 1.5...</td>\n",
       "    </tr>\n",
       "    <tr>\n",
       "      <th>3</th>\n",
       "      <td>mp-30339</td>\n",
       "      <td>Er1 Ag2</td>\n",
       "      <td>3</td>\n",
       "      <td>0.713667</td>\n",
       "      <td>0.192773</td>\n",
       "      <td>2.637257</td>\n",
       "      <td>0.448705</td>\n",
       "      <td>{'relax': {'final_structure': [[4.48158802e-07...</td>\n",
       "    </tr>\n",
       "    <tr>\n",
       "      <th>4</th>\n",
       "      <td>mp-696</td>\n",
       "      <td>Si4 Pt4</td>\n",
       "      <td>8</td>\n",
       "      <td>17.972885</td>\n",
       "      <td>0.343178</td>\n",
       "      <td>20.778588</td>\n",
       "      <td>7.406129</td>\n",
       "      <td>{'relax': {'final_structure': [[0.88083747 3.9...</td>\n",
       "    </tr>\n",
       "    <tr>\n",
       "      <th>5</th>\n",
       "      <td>mp-866222</td>\n",
       "      <td>Ac2 Si6</td>\n",
       "      <td>8</td>\n",
       "      <td>21.819111</td>\n",
       "      <td>0.252701</td>\n",
       "      <td>3.868791</td>\n",
       "      <td>1.702701</td>\n",
       "      <td>{'relax': {'final_structure': [[-2.05389424e-0...</td>\n",
       "    </tr>\n",
       "    <tr>\n",
       "      <th>6</th>\n",
       "      <td>mp-11422</td>\n",
       "      <td>Gd1 Hg1</td>\n",
       "      <td>2</td>\n",
       "      <td>0.255837</td>\n",
       "      <td>0.109605</td>\n",
       "      <td>0.172415</td>\n",
       "      <td>0.147920</td>\n",
       "      <td>{'relax': {'final_structure': [[5.55001412e-20...</td>\n",
       "    </tr>\n",
       "    <tr>\n",
       "      <th>7</th>\n",
       "      <td>mp-21238</td>\n",
       "      <td>Th4 Si4</td>\n",
       "      <td>8</td>\n",
       "      <td>5.042617</td>\n",
       "      <td>0.248163</td>\n",
       "      <td>7.904498</td>\n",
       "      <td>0.785278</td>\n",
       "      <td>{'relax': {'final_structure': [[1.08998567 0.7...</td>\n",
       "    </tr>\n",
       "    <tr>\n",
       "      <th>8</th>\n",
       "      <td>mp-1215363</td>\n",
       "      <td>Zr4 Pd1</td>\n",
       "      <td>5</td>\n",
       "      <td>1.437936</td>\n",
       "      <td>0.176616</td>\n",
       "      <td>6.527801</td>\n",
       "      <td>1.083309</td>\n",
       "      <td>{'relax': {'final_structure': [[ 3.93732368e-0...</td>\n",
       "    </tr>\n",
       "    <tr>\n",
       "      <th>9</th>\n",
       "      <td>mp-1212658</td>\n",
       "      <td>Ga1 C6</td>\n",
       "      <td>7</td>\n",
       "      <td>2.139265</td>\n",
       "      <td>0.203957</td>\n",
       "      <td>3.475310</td>\n",
       "      <td>1.177860</td>\n",
       "      <td>{'relax': {'final_structure': [[-9.88259495e-0...</td>\n",
       "    </tr>\n",
       "    <tr>\n",
       "      <th>10</th>\n",
       "      <td>mp-1101922</td>\n",
       "      <td>Eu4 Fe8</td>\n",
       "      <td>12</td>\n",
       "      <td>7.713160</td>\n",
       "      <td>0.366566</td>\n",
       "      <td>25.174940</td>\n",
       "      <td>6.312273</td>\n",
       "      <td>{'relax': {'final_structure': [[-1.64537341e-0...</td>\n",
       "    </tr>\n",
       "    <tr>\n",
       "      <th>11</th>\n",
       "      <td>mp-1183610</td>\n",
       "      <td>Ca2 Sm6</td>\n",
       "      <td>8</td>\n",
       "      <td>1.499746</td>\n",
       "      <td>0.224108</td>\n",
       "      <td>3.272938</td>\n",
       "      <td>0.360393</td>\n",
       "      <td>{'relax': {'final_structure': [[3.63712318 2.0...</td>\n",
       "    </tr>\n",
       "    <tr>\n",
       "      <th>12</th>\n",
       "      <td>mp-1187980</td>\n",
       "      <td>Yb6 Pb2</td>\n",
       "      <td>8</td>\n",
       "      <td>3.140727</td>\n",
       "      <td>0.205921</td>\n",
       "      <td>3.226797</td>\n",
       "      <td>0.919771</td>\n",
       "      <td>{'relax': {'final_structure': [[1.99653039 1.1...</td>\n",
       "    </tr>\n",
       "    <tr>\n",
       "      <th>13</th>\n",
       "      <td>mp-1187953</td>\n",
       "      <td>Yb3 Pb1</td>\n",
       "      <td>4</td>\n",
       "      <td>0.669801</td>\n",
       "      <td>0.128435</td>\n",
       "      <td>0.234562</td>\n",
       "      <td>0.197826</td>\n",
       "      <td>{'relax': {'final_structure': [[-1.32354508e-0...</td>\n",
       "    </tr>\n",
       "    <tr>\n",
       "      <th>14</th>\n",
       "      <td>mp-1185577</td>\n",
       "      <td>Cs2 Hg6</td>\n",
       "      <td>8</td>\n",
       "      <td>1.349724</td>\n",
       "      <td>0.281873</td>\n",
       "      <td>2.755415</td>\n",
       "      <td>1.485585</td>\n",
       "      <td>{'relax': {'final_structure': [[1.82452846e-05...</td>\n",
       "    </tr>\n",
       "    <tr>\n",
       "      <th>15</th>\n",
       "      <td>mp-570436</td>\n",
       "      <td>Ca2 Ir4</td>\n",
       "      <td>6</td>\n",
       "      <td>0.428584</td>\n",
       "      <td>0.275063</td>\n",
       "      <td>0.379959</td>\n",
       "      <td>0.352590</td>\n",
       "      <td>{'relax': {'final_structure': [[2.33200465 1.6...</td>\n",
       "    </tr>\n",
       "    <tr>\n",
       "      <th>16</th>\n",
       "      <td>mp-1184183</td>\n",
       "      <td>Cu1 Ge3</td>\n",
       "      <td>4</td>\n",
       "      <td>0.956875</td>\n",
       "      <td>0.178175</td>\n",
       "      <td>0.317838</td>\n",
       "      <td>0.548798</td>\n",
       "      <td>{'relax': {'final_structure': [[-1.54866517e-0...</td>\n",
       "    </tr>\n",
       "    <tr>\n",
       "      <th>17</th>\n",
       "      <td>mp-1025440</td>\n",
       "      <td>Cu2 Ge6</td>\n",
       "      <td>8</td>\n",
       "      <td>17.178930</td>\n",
       "      <td>0.221188</td>\n",
       "      <td>5.609569</td>\n",
       "      <td>5.621827</td>\n",
       "      <td>{'relax': {'final_structure': [[2.16285319 1.2...</td>\n",
       "    </tr>\n",
       "    <tr>\n",
       "      <th>18</th>\n",
       "      <td>mp-1184147</td>\n",
       "      <td>Cu2 Ge6</td>\n",
       "      <td>8</td>\n",
       "      <td>4.962517</td>\n",
       "      <td>0.376977</td>\n",
       "      <td>5.824557</td>\n",
       "      <td>7.029039</td>\n",
       "      <td>{'relax': {'final_structure': [[ 3.42616348 -1...</td>\n",
       "    </tr>\n",
       "    <tr>\n",
       "      <th>19</th>\n",
       "      <td>mp-1187368</td>\n",
       "      <td>Tb2 Mn6</td>\n",
       "      <td>8</td>\n",
       "      <td>6.993391</td>\n",
       "      <td>0.313566</td>\n",
       "      <td>7.243042</td>\n",
       "      <td>4.359421</td>\n",
       "      <td>{'relax': {'final_structure': [[3.13320954 1.8...</td>\n",
       "    </tr>\n",
       "    <tr>\n",
       "      <th>20</th>\n",
       "      <td>mp-1184679</td>\n",
       "      <td>Hg1 Bi3</td>\n",
       "      <td>4</td>\n",
       "      <td>0.632871</td>\n",
       "      <td>0.185099</td>\n",
       "      <td>0.254963</td>\n",
       "      <td>0.435078</td>\n",
       "      <td>{'relax': {'final_structure': [[ 7.96830248e-0...</td>\n",
       "    </tr>\n",
       "  </tbody>\n",
       "</table>\n",
       "</div>"
      ],
      "text/plain": [
       "           mid composition  nsites  time_relax  time_elastic   time_eos  \\\n",
       "0   mp-1106268    Pr14 Pd6      20   82.252866      0.418490  16.531636   \n",
       "1    mp-974315      Ru2 I2       4    1.354971      0.199866   4.355355   \n",
       "2   mp-1206714     Al2 Sn1       3    0.446675      0.124788   0.239677   \n",
       "3     mp-30339     Er1 Ag2       3    0.713667      0.192773   2.637257   \n",
       "4       mp-696     Si4 Pt4       8   17.972885      0.343178  20.778588   \n",
       "5    mp-866222     Ac2 Si6       8   21.819111      0.252701   3.868791   \n",
       "6     mp-11422     Gd1 Hg1       2    0.255837      0.109605   0.172415   \n",
       "7     mp-21238     Th4 Si4       8    5.042617      0.248163   7.904498   \n",
       "8   mp-1215363     Zr4 Pd1       5    1.437936      0.176616   6.527801   \n",
       "9   mp-1212658      Ga1 C6       7    2.139265      0.203957   3.475310   \n",
       "10  mp-1101922     Eu4 Fe8      12    7.713160      0.366566  25.174940   \n",
       "11  mp-1183610     Ca2 Sm6       8    1.499746      0.224108   3.272938   \n",
       "12  mp-1187980     Yb6 Pb2       8    3.140727      0.205921   3.226797   \n",
       "13  mp-1187953     Yb3 Pb1       4    0.669801      0.128435   0.234562   \n",
       "14  mp-1185577     Cs2 Hg6       8    1.349724      0.281873   2.755415   \n",
       "15   mp-570436     Ca2 Ir4       6    0.428584      0.275063   0.379959   \n",
       "16  mp-1184183     Cu1 Ge3       4    0.956875      0.178175   0.317838   \n",
       "17  mp-1025440     Cu2 Ge6       8   17.178930      0.221188   5.609569   \n",
       "18  mp-1184147     Cu2 Ge6       8    4.962517      0.376977   5.824557   \n",
       "19  mp-1187368     Tb2 Mn6       8    6.993391      0.313566   7.243042   \n",
       "20  mp-1184679     Hg1 Bi3       4    0.632871      0.185099   0.254963   \n",
       "\n",
       "    time_phonon                                         properties  \n",
       "0     21.289642  {'relax': {'final_structure': [[-5.19299035  2...  \n",
       "1      0.815008  {'relax': {'final_structure': [[ 1.83881118 -1...  \n",
       "2      0.247754  {'relax': {'final_structure': [[1.59917846 1.5...  \n",
       "3      0.448705  {'relax': {'final_structure': [[4.48158802e-07...  \n",
       "4      7.406129  {'relax': {'final_structure': [[0.88083747 3.9...  \n",
       "5      1.702701  {'relax': {'final_structure': [[-2.05389424e-0...  \n",
       "6      0.147920  {'relax': {'final_structure': [[5.55001412e-20...  \n",
       "7      0.785278  {'relax': {'final_structure': [[1.08998567 0.7...  \n",
       "8      1.083309  {'relax': {'final_structure': [[ 3.93732368e-0...  \n",
       "9      1.177860  {'relax': {'final_structure': [[-9.88259495e-0...  \n",
       "10     6.312273  {'relax': {'final_structure': [[-1.64537341e-0...  \n",
       "11     0.360393  {'relax': {'final_structure': [[3.63712318 2.0...  \n",
       "12     0.919771  {'relax': {'final_structure': [[1.99653039 1.1...  \n",
       "13     0.197826  {'relax': {'final_structure': [[-1.32354508e-0...  \n",
       "14     1.485585  {'relax': {'final_structure': [[1.82452846e-05...  \n",
       "15     0.352590  {'relax': {'final_structure': [[2.33200465 1.6...  \n",
       "16     0.548798  {'relax': {'final_structure': [[-1.54866517e-0...  \n",
       "17     5.621827  {'relax': {'final_structure': [[2.16285319 1.2...  \n",
       "18     7.029039  {'relax': {'final_structure': [[ 3.42616348 -1...  \n",
       "19     4.359421  {'relax': {'final_structure': [[3.13320954 1.8...  \n",
       "20     0.435078  {'relax': {'final_structure': [[ 7.96830248e-0...  "
      ]
     },
     "execution_count": 8,
     "metadata": {},
     "output_type": "execute_result"
    }
   ],
   "source": [
    "df"
   ]
  },
  {
   "cell_type": "code",
   "execution_count": 9,
   "id": "4611ebd4",
   "metadata": {},
   "outputs": [
    {
     "data": {
      "text/plain": [
       "<Axes: xlabel='nsites', ylabel='time_relax'>"
      ]
     },
     "execution_count": 9,
     "metadata": {},
     "output_type": "execute_result"
    },
    {
     "data": {
      "image/png": "[encoded data removed]",
      "text/plain": [
       "<Figure size 432x288 with 1 Axes>"
      ]
     },
     "metadata": {
      "needs_background": "light"
     },
     "output_type": "display_data"
    },
    {
     "data": {
      "image/png": "[encoded data removed]",
      "text/plain": [
       "<Figure size 432x288 with 1 Axes>"
      ]
     },
     "metadata": {
      "needs_background": "light"
     },
     "output_type": "display_data"
    }
   ],
   "source": [
    "df.plot(x=\"nsites\", y=\"time_phonon\", kind=\"scatter\")\n",
    "df.plot(x=\"nsites\", y=\"time_relax\", kind=\"scatter\")"
   ]
  },
  {
   "cell_type": "code",
   "execution_count": null,
   "id": "acb20c91",
   "metadata": {},
   "outputs": [],
   "source": []
  }
 ],
 "metadata": {
  "kernelspec": {
   "display_name": "Python 3 (ipykernel)",
   "language": "python",
   "name": "python3"
  },
  "language_info": {
   "codemirror_mode": {
    "name": "ipython",
    "version": 3
   },
   "file_extension": ".py",
   "mimetype": "text/x-python",
   "name": "python",
   "nbconvert_exporter": "python",
   "pygments_lexer": "ipython3",
   "version": "3.9.17"
  }
 },
 "nbformat": 4,
 "nbformat_minor": 5
}
