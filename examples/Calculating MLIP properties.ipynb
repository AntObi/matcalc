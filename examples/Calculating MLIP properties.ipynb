{
 "cells": [
  {
   "cell_type": "code",
   "execution_count": 1,
   "id": "1d2ffcb9",
   "metadata": {},
   "outputs": [],
   "source": [
    "from matcalc.relaxation import RelaxCalc\n",
    "from matcalc.phonon import PhononCalc\n",
    "from matcalc.eos import EOSCalc\n",
    "from matcalc.elasticity import ElasticityCalc\n",
    "from matcalc.util import get_universal_calculator\n",
    "from datetime import datetime\n",
    "\n",
    "from pymatgen.ext.matproj import MPRester"
   ]
  },
  {
   "cell_type": "code",
   "execution_count": 2,
   "id": "627237cd",
   "metadata": {},
   "outputs": [
    {
     "name": "stderr",
     "output_type": "stream",
     "text": [
      "/Users/shyue/miniconda3/envs/mavrl/lib/python3.9/site-packages/mp_api/client/mprester.py:182: UserWarning: mpcontribs-client not installed. Install the package to query MPContribs data, or construct pourbaix diagrams: 'pip install mpcontribs-client'\n",
      "  warnings.warn(\n"
     ]
    }
   ],
   "source": [
    "mpr = MPRester()"
   ]
  },
  {
   "cell_type": "code",
   "execution_count": 3,
   "id": "25e6c905",
   "metadata": {},
   "outputs": [
    {
     "data": {
      "application/vnd.jupyter.widget-view+json": {
       "model_id": "6c95af052df24927a12c1a3a7f9714c2",
       "version_major": 2,
       "version_minor": 0
      },
      "text/plain": [
       "Retrieving MaterialsDoc documents:   0%|          | 0/20627 [00:00<?, ?it/s]"
      ]
     },
     "metadata": {},
     "output_type": "display_data"
    }
   ],
   "source": [
    "mpdata = mpr.materials._search(nelements=2, fields=[\"material_id\", \"structure\"])"
   ]
  },
  {
   "cell_type": "code",
   "execution_count": 4,
   "id": "cb64eb7b",
   "metadata": {},
   "outputs": [
    {
     "name": "stderr",
     "output_type": "stream",
     "text": [
      "/Users/shyue/repos/matgl/matgl/utils/io.py:125: UserWarning: Incompatible model version detected! The code will continue to load the model but it is recommended that you provide a path to an updated model, increment your @model_version in model.json if you are confident that the changes are not problematic, or clear your ~/.matgl cache using `python -c \"import matgl; matgl.clear_cache()\"`\n",
      "  _check_ver(cls_, v)  # Check version of any subclasses too.\n"
     ]
    }
   ],
   "source": [
    "up = get_universal_calculator(\"M3GNet\")"
   ]
  },
  {
   "cell_type": "code",
   "execution_count": 5,
   "id": "dc1cb5b7",
   "metadata": {},
   "outputs": [],
   "source": [
    "fmax = 0.01\n",
    "prop_calcs = [\n",
    "    (\"relax\", RelaxCalc(up, fmax=fmax)),\n",
    "    (\"elastic\", ElasticityCalc(up, fmax=fmax, relax_structure=False)),\n",
    "    (\"eos\", EOSCalc(up, fmax=fmax, relax_structure=False)),\n",
    "    # Note that Phonon usually requires a more stringent fmax criterion and a re-relaxation.\n",
    "    (\"phonon\", PhononCalc(up, relax_structure=False, fmax=fmax)),\n",
    "]"
   ]
  },
  {
   "cell_type": "code",
   "execution_count": null,
   "id": "6073bac0",
   "metadata": {},
   "outputs": [
    {
     "name": "stderr",
     "output_type": "stream",
     "text": [
      "/Users/shyue/miniconda3/envs/mavrl/lib/python3.9/site-packages/torch/functional.py:504: UserWarning: torch.meshgrid: in an upcoming release, it will be required to pass the indexing argument. (Triggered internally at /Users/runner/work/pytorch/pytorch/pytorch/aten/src/ATen/native/TensorShape.cpp:3484.)\n",
      "  return _VF.meshgrid(tensors, **kwargs)  # type: ignore[attr-defined]\n"
     ]
    }
   ],
   "source": [
    "data = []\n",
    "\n",
    "for i, d in enumerate(mpdata):\n",
    "    s = d.structure\n",
    "    dd = {\"mid\": d.material_id, \"composition\": s.composition.formula, \"nsites\": len(s)}\n",
    "    properties = {}\n",
    "    for name, c in prop_calcs:\n",
    "        starttime = datetime.now()\n",
    "        properties[name] = c.calc(s)\n",
    "        endtime = datetime.now()\n",
    "        if name == \"relax\":\n",
    "            # Replace the structure with the one from relaxation for other property computations.\n",
    "            s = properties[name][\"final_structure\"]\n",
    "        dd[f\"time_{name}\"] = (endtime - starttime).total_seconds()\n",
    "    dd[\"properties\"] = properties\n",
    "    data.append(dd)\n",
    "    if i == 20:\n",
    "        # Here we just do a sampling of 10 structures.\n",
    "        break"
   ]
  },
  {
   "cell_type": "code",
   "execution_count": null,
   "id": "c8137638",
   "metadata": {},
   "outputs": [],
   "source": [
    "import pandas as pd\n",
    "\n",
    "df = pd.DataFrame(data)"
   ]
  },
  {
   "cell_type": "code",
   "execution_count": null,
   "id": "551ff93b",
   "metadata": {},
   "outputs": [],
   "source": [
    "df"
   ]
  },
  {
   "cell_type": "code",
   "execution_count": null,
   "id": "4611ebd4",
   "metadata": {},
   "outputs": [],
   "source": [
    "df.plot(x=\"nsites\", y=\"time_phonon\", kind=\"scatter\")\n",
    "df.plot(x=\"nsites\", y=\"time_relax\", kind=\"scatter\")"
   ]
  },
  {
   "cell_type": "code",
   "execution_count": null,
   "id": "acb20c91",
   "metadata": {},
   "outputs": [],
   "source": []
  }
 ],
 "metadata": {
  "kernelspec": {
   "display_name": "Python 3 (ipykernel)",
   "language": "python",
   "name": "python3"
  },
  "language_info": {
   "codemirror_mode": {
    "name": "ipython",
    "version": 3
   },
   "file_extension": ".py",
   "mimetype": "text/x-python",
   "name": "python",
   "nbconvert_exporter": "python",
   "pygments_lexer": "ipython3",
   "version": "3.9.17"
  }
 },
 "nbformat": 4,
 "nbformat_minor": 5
}
