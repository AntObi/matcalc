{
 "cells": [
  {
   "cell_type": "code",
   "execution_count": null,
   "id": "0",
   "metadata": {},
   "outputs": [],
   "source": [
    "from __future__ import annotations\n",
    "\n",
    "import itertools\n",
    "\n",
    "import numpy as np\n",
    "from monty.serialization import dumpfn, loadfn"
   ]
  },
  {
   "cell_type": "code",
   "execution_count": null,
   "id": "1",
   "metadata": {},
   "outputs": [],
   "source": [
    "for functional in (\"PBE\", \"r2SCAN\"):\n",
    "    data = loadfn(f\"MatPES-{functional}-2025.1.json.gz\")\n",
    "    coh = loadfn(f\"MatPES-{functional}-atoms.json.gz\")\n",
    "    mp_elements = [d for d in data if d[\"nelements\"] == 1 and d[\"matpes_id\"].startswith(\"mp\")]\n",
    "    el_atomic = {d[\"elements\"][0]: d[\"energy\"] for d in coh}\n",
    "    str_atomic = {d[\"elements\"][0]: d[\"structure\"] for d in coh}\n",
    "\n",
    "    get_element = lambda d: d[\"elements\"][0]\n",
    "\n",
    "    mp_elements = sorted(mp_elements, key=get_element)\n",
    "\n",
    "    entries = {}\n",
    "\n",
    "    for el, group in itertools.groupby(mp_elements, key=get_element):\n",
    "        e = min(group, key=lambda d: d[\"energy\"] / d[\"nsites\"])  # Get ground state structure\n",
    "        e[\"energy_per_atom\"] = e[\"energy\"] / e[\"nsites\"]  # Add energy per atom key for simplicity.\n",
    "        e[\"energy_atomic\"] = el_atomic[el]\n",
    "        e[\"structure_atomic\"] = str_atomic[el]\n",
    "        try:\n",
    "            del e[\"formation_energy_per_atom\"]\n",
    "        except KeyError:\n",
    "            pass\n",
    "        assert np.allclose(e[\"energy_per_atom\"] - e[\"energy_atomic\"], e[\"cohesive_energy_per_atom\"]), (\n",
    "            f\"{e['energy_per_atom'] - e['energy_atomic']} != {e['cohesive_energy_per_atom']}\"\n",
    "        )\n",
    "        entries[el] = e\n",
    "    assert len(entries) == 89\n",
    "    dumpfn(entries, f\"MatPES-{functional}-Element-Refs.json.gz\")"
   ]
  }
 ],
 "metadata": {
  "kernelspec": {
   "display_name": "Python 3 (ipykernel)",
   "language": "python",
   "name": "python3"
  },
  "language_info": {
   "codemirror_mode": {
    "name": "ipython",
    "version": 3
   },
   "file_extension": ".py",
   "mimetype": "text/x-python",
   "name": "python",
   "nbconvert_exporter": "python",
   "pygments_lexer": "ipython3",
   "version": "3.11.10"
  }
 },
 "nbformat": 4,
 "nbformat_minor": 5
}
